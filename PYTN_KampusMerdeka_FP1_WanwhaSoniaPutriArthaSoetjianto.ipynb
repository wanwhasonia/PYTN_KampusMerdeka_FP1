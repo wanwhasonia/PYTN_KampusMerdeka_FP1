{
 "cells": [
  {
   "cell_type": "markdown",
   "id": "7f868282",
   "metadata": {},
   "source": [
    "# Perkenalan"
   ]
  },
  {
   "cell_type": "markdown",
   "id": "8d35aa1d",
   "metadata": {},
   "source": [
    "Final Project 1- Kampus Merdeka Batch 3 (Hacktiv8)\n",
    "\n",
    "Nama Anggota: Alifina Aulia A dan Wanwha Sonia Putri A.S\n",
    "\n",
    "Dataset yang digunakan adalah Dataset yang diperoleh dari Kaggle yaitu \"Uber and Lyft Dataset Boston, MA\". Dataset tersebut memuat data perjalanan taksi Uber dan Lyft di Boston, MA. Dataset terdiri dari 693.071 observasi dan 57 fitur.\n",
    "\n",
    "Tujuan dari project ini adalah untuk memprediksi harga perjalanan menggunakan taksi Uber dan Lyft.\n",
    "\n",
    "Oleh karena itu, kami memilih target berupa \"price\" yang dianalisis berdasarkan 10 feature yang paling sesuai."
   ]
  },
  {
   "cell_type": "markdown",
   "id": "08d9de37",
   "metadata": {},
   "source": [
    "# Import Pustaka"
   ]
  },
  {
   "cell_type": "code",
   "execution_count": 58,
   "id": "ee68e444",
   "metadata": {},
   "outputs": [],
   "source": [
    "import warnings\n",
    "warnings.filterwarnings('ignore')\n",
    "\n",
    "%matplotlib inline\n",
    "import numpy as np\n",
    "import pandas as pd\n",
    "import matplotlib as mpl\n",
    "import matplotlib.pyplot as plt\n",
    "import seaborn as sns\n",
    "import scipy.stats as stats\n",
    "import pickle\n",
    "\n",
    "from sklearn.feature_selection import SelectKBest\n",
    "from sklearn.feature_selection import f_regression\n",
    "from sklearn.preprocessing import LabelEncoder\n",
    "from sklearn.pipeline import Pipeline\n",
    "from sklearn.pipeline import make_pipeline\n",
    "from sklearn.model_selection import train_test_split\n",
    "from sklearn.linear_model import LinearRegression\n",
    "from sklearn.metrics import mean_squared_error, confusion_matrix, accuracy_score"
   ]
  },
  {
   "cell_type": "markdown",
   "id": "59b33610",
   "metadata": {},
   "source": [
    "# Data Loading"
   ]
  },
  {
   "cell_type": "code",
   "execution_count": 2,
   "id": "cd33ca2f",
   "metadata": {},
   "outputs": [],
   "source": [
    "#membaca data\n",
    "df= pd.read_csv(\"rideshare_kaggle.csv\")"
   ]
  },
  {
   "cell_type": "code",
   "execution_count": 3,
   "id": "fb6b9434",
   "metadata": {},
   "outputs": [
    {
     "data": {
      "text/plain": [
       "(693071, 57)"
      ]
     },
     "execution_count": 3,
     "metadata": {},
     "output_type": "execute_result"
    }
   ],
   "source": [
    "#mengetahui dimensi data\n",
    "df.shape"
   ]
  },
  {
   "cell_type": "code",
   "execution_count": 4,
   "id": "2cfc6608",
   "metadata": {},
   "outputs": [
    {
     "data": {
      "text/html": [
       "<div>\n",
       "<style scoped>\n",
       "    .dataframe tbody tr th:only-of-type {\n",
       "        vertical-align: middle;\n",
       "    }\n",
       "\n",
       "    .dataframe tbody tr th {\n",
       "        vertical-align: top;\n",
       "    }\n",
       "\n",
       "    .dataframe thead th {\n",
       "        text-align: right;\n",
       "    }\n",
       "</style>\n",
       "<table border=\"1\" class=\"dataframe\">\n",
       "  <thead>\n",
       "    <tr style=\"text-align: right;\">\n",
       "      <th></th>\n",
       "      <th>id</th>\n",
       "      <th>timestamp</th>\n",
       "      <th>hour</th>\n",
       "      <th>day</th>\n",
       "      <th>month</th>\n",
       "      <th>datetime</th>\n",
       "      <th>timezone</th>\n",
       "      <th>source</th>\n",
       "      <th>destination</th>\n",
       "      <th>cab_type</th>\n",
       "      <th>...</th>\n",
       "      <th>precipIntensityMax</th>\n",
       "      <th>uvIndexTime</th>\n",
       "      <th>temperatureMin</th>\n",
       "      <th>temperatureMinTime</th>\n",
       "      <th>temperatureMax</th>\n",
       "      <th>temperatureMaxTime</th>\n",
       "      <th>apparentTemperatureMin</th>\n",
       "      <th>apparentTemperatureMinTime</th>\n",
       "      <th>apparentTemperatureMax</th>\n",
       "      <th>apparentTemperatureMaxTime</th>\n",
       "    </tr>\n",
       "  </thead>\n",
       "  <tbody>\n",
       "    <tr>\n",
       "      <th>0</th>\n",
       "      <td>424553bb-7174-41ea-aeb4-fe06d4f4b9d7</td>\n",
       "      <td>1.544953e+09</td>\n",
       "      <td>9</td>\n",
       "      <td>16</td>\n",
       "      <td>12</td>\n",
       "      <td>2018-12-16 09:30:07</td>\n",
       "      <td>America/New_York</td>\n",
       "      <td>Haymarket Square</td>\n",
       "      <td>North Station</td>\n",
       "      <td>Lyft</td>\n",
       "      <td>...</td>\n",
       "      <td>0.1276</td>\n",
       "      <td>1544979600</td>\n",
       "      <td>39.89</td>\n",
       "      <td>1545012000</td>\n",
       "      <td>43.68</td>\n",
       "      <td>1544968800</td>\n",
       "      <td>33.73</td>\n",
       "      <td>1545012000</td>\n",
       "      <td>38.07</td>\n",
       "      <td>1544958000</td>\n",
       "    </tr>\n",
       "    <tr>\n",
       "      <th>1</th>\n",
       "      <td>4bd23055-6827-41c6-b23b-3c491f24e74d</td>\n",
       "      <td>1.543284e+09</td>\n",
       "      <td>2</td>\n",
       "      <td>27</td>\n",
       "      <td>11</td>\n",
       "      <td>2018-11-27 02:00:23</td>\n",
       "      <td>America/New_York</td>\n",
       "      <td>Haymarket Square</td>\n",
       "      <td>North Station</td>\n",
       "      <td>Lyft</td>\n",
       "      <td>...</td>\n",
       "      <td>0.1300</td>\n",
       "      <td>1543251600</td>\n",
       "      <td>40.49</td>\n",
       "      <td>1543233600</td>\n",
       "      <td>47.30</td>\n",
       "      <td>1543251600</td>\n",
       "      <td>36.20</td>\n",
       "      <td>1543291200</td>\n",
       "      <td>43.92</td>\n",
       "      <td>1543251600</td>\n",
       "    </tr>\n",
       "    <tr>\n",
       "      <th>2</th>\n",
       "      <td>981a3613-77af-4620-a42a-0c0866077d1e</td>\n",
       "      <td>1.543367e+09</td>\n",
       "      <td>1</td>\n",
       "      <td>28</td>\n",
       "      <td>11</td>\n",
       "      <td>2018-11-28 01:00:22</td>\n",
       "      <td>America/New_York</td>\n",
       "      <td>Haymarket Square</td>\n",
       "      <td>North Station</td>\n",
       "      <td>Lyft</td>\n",
       "      <td>...</td>\n",
       "      <td>0.1064</td>\n",
       "      <td>1543338000</td>\n",
       "      <td>35.36</td>\n",
       "      <td>1543377600</td>\n",
       "      <td>47.55</td>\n",
       "      <td>1543320000</td>\n",
       "      <td>31.04</td>\n",
       "      <td>1543377600</td>\n",
       "      <td>44.12</td>\n",
       "      <td>1543320000</td>\n",
       "    </tr>\n",
       "    <tr>\n",
       "      <th>3</th>\n",
       "      <td>c2d88af2-d278-4bfd-a8d0-29ca77cc5512</td>\n",
       "      <td>1.543554e+09</td>\n",
       "      <td>4</td>\n",
       "      <td>30</td>\n",
       "      <td>11</td>\n",
       "      <td>2018-11-30 04:53:02</td>\n",
       "      <td>America/New_York</td>\n",
       "      <td>Haymarket Square</td>\n",
       "      <td>North Station</td>\n",
       "      <td>Lyft</td>\n",
       "      <td>...</td>\n",
       "      <td>0.0000</td>\n",
       "      <td>1543507200</td>\n",
       "      <td>34.67</td>\n",
       "      <td>1543550400</td>\n",
       "      <td>45.03</td>\n",
       "      <td>1543510800</td>\n",
       "      <td>30.30</td>\n",
       "      <td>1543550400</td>\n",
       "      <td>38.53</td>\n",
       "      <td>1543510800</td>\n",
       "    </tr>\n",
       "    <tr>\n",
       "      <th>4</th>\n",
       "      <td>e0126e1f-8ca9-4f2e-82b3-50505a09db9a</td>\n",
       "      <td>1.543463e+09</td>\n",
       "      <td>3</td>\n",
       "      <td>29</td>\n",
       "      <td>11</td>\n",
       "      <td>2018-11-29 03:49:20</td>\n",
       "      <td>America/New_York</td>\n",
       "      <td>Haymarket Square</td>\n",
       "      <td>North Station</td>\n",
       "      <td>Lyft</td>\n",
       "      <td>...</td>\n",
       "      <td>0.0001</td>\n",
       "      <td>1543420800</td>\n",
       "      <td>33.10</td>\n",
       "      <td>1543402800</td>\n",
       "      <td>42.18</td>\n",
       "      <td>1543420800</td>\n",
       "      <td>29.11</td>\n",
       "      <td>1543392000</td>\n",
       "      <td>35.75</td>\n",
       "      <td>1543420800</td>\n",
       "    </tr>\n",
       "  </tbody>\n",
       "</table>\n",
       "<p>5 rows × 57 columns</p>\n",
       "</div>"
      ],
      "text/plain": [
       "                                     id     timestamp  hour  day  month  \\\n",
       "0  424553bb-7174-41ea-aeb4-fe06d4f4b9d7  1.544953e+09     9   16     12   \n",
       "1  4bd23055-6827-41c6-b23b-3c491f24e74d  1.543284e+09     2   27     11   \n",
       "2  981a3613-77af-4620-a42a-0c0866077d1e  1.543367e+09     1   28     11   \n",
       "3  c2d88af2-d278-4bfd-a8d0-29ca77cc5512  1.543554e+09     4   30     11   \n",
       "4  e0126e1f-8ca9-4f2e-82b3-50505a09db9a  1.543463e+09     3   29     11   \n",
       "\n",
       "              datetime          timezone            source    destination  \\\n",
       "0  2018-12-16 09:30:07  America/New_York  Haymarket Square  North Station   \n",
       "1  2018-11-27 02:00:23  America/New_York  Haymarket Square  North Station   \n",
       "2  2018-11-28 01:00:22  America/New_York  Haymarket Square  North Station   \n",
       "3  2018-11-30 04:53:02  America/New_York  Haymarket Square  North Station   \n",
       "4  2018-11-29 03:49:20  America/New_York  Haymarket Square  North Station   \n",
       "\n",
       "  cab_type  ... precipIntensityMax uvIndexTime  temperatureMin  \\\n",
       "0     Lyft  ...             0.1276  1544979600           39.89   \n",
       "1     Lyft  ...             0.1300  1543251600           40.49   \n",
       "2     Lyft  ...             0.1064  1543338000           35.36   \n",
       "3     Lyft  ...             0.0000  1543507200           34.67   \n",
       "4     Lyft  ...             0.0001  1543420800           33.10   \n",
       "\n",
       "   temperatureMinTime  temperatureMax  temperatureMaxTime  \\\n",
       "0          1545012000           43.68          1544968800   \n",
       "1          1543233600           47.30          1543251600   \n",
       "2          1543377600           47.55          1543320000   \n",
       "3          1543550400           45.03          1543510800   \n",
       "4          1543402800           42.18          1543420800   \n",
       "\n",
       "   apparentTemperatureMin  apparentTemperatureMinTime  apparentTemperatureMax  \\\n",
       "0                   33.73                  1545012000                   38.07   \n",
       "1                   36.20                  1543291200                   43.92   \n",
       "2                   31.04                  1543377600                   44.12   \n",
       "3                   30.30                  1543550400                   38.53   \n",
       "4                   29.11                  1543392000                   35.75   \n",
       "\n",
       "  apparentTemperatureMaxTime  \n",
       "0                 1544958000  \n",
       "1                 1543251600  \n",
       "2                 1543320000  \n",
       "3                 1543510800  \n",
       "4                 1543420800  \n",
       "\n",
       "[5 rows x 57 columns]"
      ]
     },
     "execution_count": 4,
     "metadata": {},
     "output_type": "execute_result"
    }
   ],
   "source": [
    "#melihat 5 data teratas\n",
    "df.head()"
   ]
  },
  {
   "cell_type": "code",
   "execution_count": 5,
   "id": "80dab5a7",
   "metadata": {},
   "outputs": [
    {
     "name": "stdout",
     "output_type": "stream",
     "text": [
      "<class 'pandas.core.frame.DataFrame'>\n",
      "RangeIndex: 693071 entries, 0 to 693070\n",
      "Data columns (total 57 columns):\n",
      " #   Column                       Non-Null Count   Dtype  \n",
      "---  ------                       --------------   -----  \n",
      " 0   id                           693071 non-null  object \n",
      " 1   timestamp                    693071 non-null  float64\n",
      " 2   hour                         693071 non-null  int64  \n",
      " 3   day                          693071 non-null  int64  \n",
      " 4   month                        693071 non-null  int64  \n",
      " 5   datetime                     693071 non-null  object \n",
      " 6   timezone                     693071 non-null  object \n",
      " 7   source                       693071 non-null  object \n",
      " 8   destination                  693071 non-null  object \n",
      " 9   cab_type                     693071 non-null  object \n",
      " 10  product_id                   693071 non-null  object \n",
      " 11  name                         693071 non-null  object \n",
      " 12  price                        637976 non-null  float64\n",
      " 13  distance                     693071 non-null  float64\n",
      " 14  surge_multiplier             693071 non-null  float64\n",
      " 15  latitude                     693071 non-null  float64\n",
      " 16  longitude                    693071 non-null  float64\n",
      " 17  temperature                  693071 non-null  float64\n",
      " 18  apparentTemperature          693071 non-null  float64\n",
      " 19  short_summary                693071 non-null  object \n",
      " 20  long_summary                 693071 non-null  object \n",
      " 21  precipIntensity              693071 non-null  float64\n",
      " 22  precipProbability            693071 non-null  float64\n",
      " 23  humidity                     693071 non-null  float64\n",
      " 24  windSpeed                    693071 non-null  float64\n",
      " 25  windGust                     693071 non-null  float64\n",
      " 26  windGustTime                 693071 non-null  int64  \n",
      " 27  visibility                   693071 non-null  float64\n",
      " 28  temperatureHigh              693071 non-null  float64\n",
      " 29  temperatureHighTime          693071 non-null  int64  \n",
      " 30  temperatureLow               693071 non-null  float64\n",
      " 31  temperatureLowTime           693071 non-null  int64  \n",
      " 32  apparentTemperatureHigh      693071 non-null  float64\n",
      " 33  apparentTemperatureHighTime  693071 non-null  int64  \n",
      " 34  apparentTemperatureLow       693071 non-null  float64\n",
      " 35  apparentTemperatureLowTime   693071 non-null  int64  \n",
      " 36  icon                         693071 non-null  object \n",
      " 37  dewPoint                     693071 non-null  float64\n",
      " 38  pressure                     693071 non-null  float64\n",
      " 39  windBearing                  693071 non-null  int64  \n",
      " 40  cloudCover                   693071 non-null  float64\n",
      " 41  uvIndex                      693071 non-null  int64  \n",
      " 42  visibility.1                 693071 non-null  float64\n",
      " 43  ozone                        693071 non-null  float64\n",
      " 44  sunriseTime                  693071 non-null  int64  \n",
      " 45  sunsetTime                   693071 non-null  int64  \n",
      " 46  moonPhase                    693071 non-null  float64\n",
      " 47  precipIntensityMax           693071 non-null  float64\n",
      " 48  uvIndexTime                  693071 non-null  int64  \n",
      " 49  temperatureMin               693071 non-null  float64\n",
      " 50  temperatureMinTime           693071 non-null  int64  \n",
      " 51  temperatureMax               693071 non-null  float64\n",
      " 52  temperatureMaxTime           693071 non-null  int64  \n",
      " 53  apparentTemperatureMin       693071 non-null  float64\n",
      " 54  apparentTemperatureMinTime   693071 non-null  int64  \n",
      " 55  apparentTemperatureMax       693071 non-null  float64\n",
      " 56  apparentTemperatureMaxTime   693071 non-null  int64  \n",
      "dtypes: float64(29), int64(17), object(11)\n",
      "memory usage: 301.4+ MB\n"
     ]
    }
   ],
   "source": [
    "#mengetahui keberadaan missing value dan tipe data setiap kolom\n",
    "df.info()"
   ]
  },
  {
   "cell_type": "markdown",
   "id": "8c320bab",
   "metadata": {},
   "source": [
    "Berdasarkan proses tersebut diperoleh informasi yaitu data terdiri dari 693071 baris dan 57 kolom. Terdapat 29 kolom bertipe float, 17 kolom bertipe integer, dan 11 kolom bertipe object. Kolom price memiliki 637976 baris yang tidak nul dari 693071 total baris keseluruhan. Artinya terdapat missing value yang harus dibersihkan sebelum mengolah data lebih lanjut. \n",
    "\n",
    "Berdasarkan tujuan yaitu menentukan harga perjalanan, maka kita memerlukan informasi terkait penyedia layanan perjalanan. Informasi tersebut dapat kita ketahui melalui kolom cab_type."
   ]
  },
  {
   "cell_type": "code",
   "execution_count": 6,
   "id": "5469a77f",
   "metadata": {},
   "outputs": [
    {
     "data": {
      "text/plain": [
       "Uber    385663\n",
       "Lyft    307408\n",
       "Name: cab_type, dtype: int64"
      ]
     },
     "execution_count": 6,
     "metadata": {},
     "output_type": "execute_result"
    }
   ],
   "source": [
    "df['cab_type'].value_counts()"
   ]
  },
  {
   "cell_type": "markdown",
   "id": "c1abfe84",
   "metadata": {},
   "source": [
    "Jadi ada dua penyedia layanan perjalanan yaitu Uber dan Lyft. Dataset merekam 385663 perjalanan menggunakan Uber dan 307408 perjalanan menggunakan Lyft."
   ]
  },
  {
   "cell_type": "markdown",
   "id": "4ee461c0",
   "metadata": {},
   "source": [
    "# Cleaning Data"
   ]
  },
  {
   "cell_type": "markdown",
   "id": "b6b520f1",
   "metadata": {},
   "source": [
    "## Handling null values"
   ]
  },
  {
   "cell_type": "code",
   "execution_count": 7,
   "id": "0090236d",
   "metadata": {},
   "outputs": [
    {
     "data": {
      "text/plain": [
       "id                                 0\n",
       "timestamp                          0\n",
       "hour                               0\n",
       "day                                0\n",
       "month                              0\n",
       "datetime                           0\n",
       "timezone                           0\n",
       "source                             0\n",
       "destination                        0\n",
       "cab_type                           0\n",
       "product_id                         0\n",
       "name                               0\n",
       "price                          55095\n",
       "distance                           0\n",
       "surge_multiplier                   0\n",
       "latitude                           0\n",
       "longitude                          0\n",
       "temperature                        0\n",
       "apparentTemperature                0\n",
       "short_summary                      0\n",
       "long_summary                       0\n",
       "precipIntensity                    0\n",
       "precipProbability                  0\n",
       "humidity                           0\n",
       "windSpeed                          0\n",
       "windGust                           0\n",
       "windGustTime                       0\n",
       "visibility                         0\n",
       "temperatureHigh                    0\n",
       "temperatureHighTime                0\n",
       "temperatureLow                     0\n",
       "temperatureLowTime                 0\n",
       "apparentTemperatureHigh            0\n",
       "apparentTemperatureHighTime        0\n",
       "apparentTemperatureLow             0\n",
       "apparentTemperatureLowTime         0\n",
       "icon                               0\n",
       "dewPoint                           0\n",
       "pressure                           0\n",
       "windBearing                        0\n",
       "cloudCover                         0\n",
       "uvIndex                            0\n",
       "visibility.1                       0\n",
       "ozone                              0\n",
       "sunriseTime                        0\n",
       "sunsetTime                         0\n",
       "moonPhase                          0\n",
       "precipIntensityMax                 0\n",
       "uvIndexTime                        0\n",
       "temperatureMin                     0\n",
       "temperatureMinTime                 0\n",
       "temperatureMax                     0\n",
       "temperatureMaxTime                 0\n",
       "apparentTemperatureMin             0\n",
       "apparentTemperatureMinTime         0\n",
       "apparentTemperatureMax             0\n",
       "apparentTemperatureMaxTime         0\n",
       "dtype: int64"
      ]
     },
     "execution_count": 7,
     "metadata": {},
     "output_type": "execute_result"
    }
   ],
   "source": [
    "#melihat jumlah nul value pada setiap kolom\n",
    "df.isnull().sum()"
   ]
  },
  {
   "cell_type": "markdown",
   "id": "358446e4",
   "metadata": {},
   "source": [
    "Kolom price memiliki nilai null sebanyak 55095. Ada beberapa cara untuk mengganti nilai nul yaitu salah satunya dengan mengisinya menggunakan nilai mean."
   ]
  },
  {
   "cell_type": "code",
   "execution_count": 8,
   "id": "eba6ff29",
   "metadata": {},
   "outputs": [
    {
     "data": {
      "text/plain": [
       "16.545125490614065"
      ]
     },
     "execution_count": 8,
     "metadata": {},
     "output_type": "execute_result"
    }
   ],
   "source": [
    "mean= df['price'].mean()\n",
    "mean"
   ]
  },
  {
   "cell_type": "markdown",
   "id": "7474028e",
   "metadata": {},
   "source": [
    "Mean dari kolom price pada data tersebut adalah 16.545 sehingga kita akan mengisi baris kosong kolom price dengan nilai 16.545"
   ]
  },
  {
   "cell_type": "code",
   "execution_count": 9,
   "id": "6e5f6897",
   "metadata": {},
   "outputs": [],
   "source": [
    "df['price'].fillna(mean, inplace=True)"
   ]
  },
  {
   "cell_type": "code",
   "execution_count": 10,
   "id": "1af11c37",
   "metadata": {},
   "outputs": [
    {
     "data": {
      "text/plain": [
       "id                             False\n",
       "timestamp                      False\n",
       "hour                           False\n",
       "day                            False\n",
       "month                          False\n",
       "datetime                       False\n",
       "timezone                       False\n",
       "source                         False\n",
       "destination                    False\n",
       "cab_type                       False\n",
       "product_id                     False\n",
       "name                           False\n",
       "price                          False\n",
       "distance                       False\n",
       "surge_multiplier               False\n",
       "latitude                       False\n",
       "longitude                      False\n",
       "temperature                    False\n",
       "apparentTemperature            False\n",
       "short_summary                  False\n",
       "long_summary                   False\n",
       "precipIntensity                False\n",
       "precipProbability              False\n",
       "humidity                       False\n",
       "windSpeed                      False\n",
       "windGust                       False\n",
       "windGustTime                   False\n",
       "visibility                     False\n",
       "temperatureHigh                False\n",
       "temperatureHighTime            False\n",
       "temperatureLow                 False\n",
       "temperatureLowTime             False\n",
       "apparentTemperatureHigh        False\n",
       "apparentTemperatureHighTime    False\n",
       "apparentTemperatureLow         False\n",
       "apparentTemperatureLowTime     False\n",
       "icon                           False\n",
       "dewPoint                       False\n",
       "pressure                       False\n",
       "windBearing                    False\n",
       "cloudCover                     False\n",
       "uvIndex                        False\n",
       "visibility.1                   False\n",
       "ozone                          False\n",
       "sunriseTime                    False\n",
       "sunsetTime                     False\n",
       "moonPhase                      False\n",
       "precipIntensityMax             False\n",
       "uvIndexTime                    False\n",
       "temperatureMin                 False\n",
       "temperatureMinTime             False\n",
       "temperatureMax                 False\n",
       "temperatureMaxTime             False\n",
       "apparentTemperatureMin         False\n",
       "apparentTemperatureMinTime     False\n",
       "apparentTemperatureMax         False\n",
       "apparentTemperatureMaxTime     False\n",
       "dtype: bool"
      ]
     },
     "execution_count": 10,
     "metadata": {},
     "output_type": "execute_result"
    }
   ],
   "source": [
    "df.isnull().any()"
   ]
  },
  {
   "cell_type": "code",
   "execution_count": 11,
   "id": "39458cf9",
   "metadata": {},
   "outputs": [
    {
     "data": {
      "text/plain": [
       "16.545125490610985"
      ]
     },
     "execution_count": 11,
     "metadata": {},
     "output_type": "execute_result"
    }
   ],
   "source": [
    "#mengetahui nilai mean kolom price yang telah diperbaiki\n",
    "mean= df['price'].mean()\n",
    "mean"
   ]
  },
  {
   "cell_type": "markdown",
   "id": "2518c2e0",
   "metadata": {},
   "source": [
    "Mengisi baris kosong pada kolom price mengguankan nilai mean sebesar 16.545 tidak merubah nilai mean kolom price pada dataset"
   ]
  },
  {
   "cell_type": "markdown",
   "id": "7cac3448",
   "metadata": {},
   "source": [
    "## Handling duplicated values"
   ]
  },
  {
   "cell_type": "code",
   "execution_count": 12,
   "id": "fedbd283",
   "metadata": {},
   "outputs": [
    {
     "data": {
      "text/plain": [
       "0"
      ]
     },
     "execution_count": 12,
     "metadata": {},
     "output_type": "execute_result"
    }
   ],
   "source": [
    "#mengetahui jumlah duplicated values\n",
    "df.duplicated().sum()"
   ]
  },
  {
   "cell_type": "markdown",
   "id": "4076bbba",
   "metadata": {},
   "source": [
    "Karena duplicated values=0 maka berarti tidak ada duplicated value pada dataset. Selanjutnya kita ingin mengetahui macam-macam product yang dimiliki Uber dan Lyft. Kita dapat memperoleh informasi tersebut dari kolom name."
   ]
  },
  {
   "cell_type": "code",
   "execution_count": 13,
   "id": "1ff73d01",
   "metadata": {},
   "outputs": [
    {
     "data": {
      "text/plain": [
       "array(['Shared', 'Lux', 'Lyft', 'Lux Black XL', 'Lyft XL', 'Lux Black',\n",
       "       'UberXL', 'Black', 'UberX', 'WAV', 'Black SUV', 'UberPool', 'Taxi'],\n",
       "      dtype=object)"
      ]
     },
     "execution_count": 13,
     "metadata": {},
     "output_type": "execute_result"
    }
   ],
   "source": [
    "#mengetahui nama product yang disediakan Uber dan Lyft\n",
    "df['name'].unique()"
   ]
  },
  {
   "cell_type": "code",
   "execution_count": 14,
   "id": "4403f9e3",
   "metadata": {},
   "outputs": [],
   "source": [
    "df['name'] = df['name'].str.replace('Black SUV', 'BlackSUV')\n",
    "df['name'] = df['name'].str.replace('Lyft Black XL', 'LyftBlackXL')\n",
    "df['name'] = df['name'].str.replace('Lyft XL', 'LyftXL')\n",
    "df['name'] = df['name'].str.replace('Lux Black XL', 'LuxBlackXL')\n",
    "df['name'] = df['name'].str.replace('Lux Black', 'LuxBlack')"
   ]
  },
  {
   "cell_type": "code",
   "execution_count": 15,
   "id": "d5eefe04",
   "metadata": {},
   "outputs": [
    {
     "data": {
      "text/plain": [
       "array(['Shared', 'Lux', 'Lyft', 'LuxBlackXL', 'LyftXL', 'LuxBlack',\n",
       "       'UberXL', 'Black', 'UberX', 'WAV', 'BlackSUV', 'UberPool', 'Taxi'],\n",
       "      dtype=object)"
      ]
     },
     "execution_count": 15,
     "metadata": {},
     "output_type": "execute_result"
    }
   ],
   "source": [
    "#memastikan bahwa pengeditan telah berhasil\n",
    "df['name'].unique()"
   ]
  },
  {
   "cell_type": "markdown",
   "id": "b9b6cef9",
   "metadata": {},
   "source": [
    "Jadi nama-nama product yang tersedia dari kedua penyedia layanan perjalanan adalah 'Shared', 'Lux', 'Lyft', 'LuxBlackXL', 'LyftXL', 'LuxBlack',\n",
    "       'UberXL', 'Black', 'UberX', 'WAV', 'BlackSUV', 'UberPool', 'Taxi'"
   ]
  },
  {
   "cell_type": "markdown",
   "id": "b71569f3",
   "metadata": {},
   "source": [
    "# EDA (Exploratory Data Analysis)"
   ]
  },
  {
   "cell_type": "code",
   "execution_count": 16,
   "id": "1aff5b63",
   "metadata": {},
   "outputs": [
    {
     "data": {
      "text/html": [
       "<div>\n",
       "<style scoped>\n",
       "    .dataframe tbody tr th:only-of-type {\n",
       "        vertical-align: middle;\n",
       "    }\n",
       "\n",
       "    .dataframe tbody tr th {\n",
       "        vertical-align: top;\n",
       "    }\n",
       "\n",
       "    .dataframe thead th {\n",
       "        text-align: right;\n",
       "    }\n",
       "</style>\n",
       "<table border=\"1\" class=\"dataframe\">\n",
       "  <thead>\n",
       "    <tr style=\"text-align: right;\">\n",
       "      <th></th>\n",
       "      <th>id</th>\n",
       "      <th>timestamp</th>\n",
       "      <th>hour</th>\n",
       "      <th>day</th>\n",
       "      <th>month</th>\n",
       "      <th>datetime</th>\n",
       "      <th>timezone</th>\n",
       "      <th>source</th>\n",
       "      <th>destination</th>\n",
       "      <th>cab_type</th>\n",
       "      <th>...</th>\n",
       "      <th>precipIntensityMax</th>\n",
       "      <th>uvIndexTime</th>\n",
       "      <th>temperatureMin</th>\n",
       "      <th>temperatureMinTime</th>\n",
       "      <th>temperatureMax</th>\n",
       "      <th>temperatureMaxTime</th>\n",
       "      <th>apparentTemperatureMin</th>\n",
       "      <th>apparentTemperatureMinTime</th>\n",
       "      <th>apparentTemperatureMax</th>\n",
       "      <th>apparentTemperatureMaxTime</th>\n",
       "    </tr>\n",
       "  </thead>\n",
       "  <tbody>\n",
       "    <tr>\n",
       "      <th>0</th>\n",
       "      <td>424553bb-7174-41ea-aeb4-fe06d4f4b9d7</td>\n",
       "      <td>1.544953e+09</td>\n",
       "      <td>9</td>\n",
       "      <td>16</td>\n",
       "      <td>12</td>\n",
       "      <td>2018-12-16 09:30:07</td>\n",
       "      <td>America/New_York</td>\n",
       "      <td>Haymarket Square</td>\n",
       "      <td>North Station</td>\n",
       "      <td>Lyft</td>\n",
       "      <td>...</td>\n",
       "      <td>0.1276</td>\n",
       "      <td>1544979600</td>\n",
       "      <td>39.89</td>\n",
       "      <td>1545012000</td>\n",
       "      <td>43.68</td>\n",
       "      <td>1544968800</td>\n",
       "      <td>33.73</td>\n",
       "      <td>1545012000</td>\n",
       "      <td>38.07</td>\n",
       "      <td>1544958000</td>\n",
       "    </tr>\n",
       "    <tr>\n",
       "      <th>1</th>\n",
       "      <td>4bd23055-6827-41c6-b23b-3c491f24e74d</td>\n",
       "      <td>1.543284e+09</td>\n",
       "      <td>2</td>\n",
       "      <td>27</td>\n",
       "      <td>11</td>\n",
       "      <td>2018-11-27 02:00:23</td>\n",
       "      <td>America/New_York</td>\n",
       "      <td>Haymarket Square</td>\n",
       "      <td>North Station</td>\n",
       "      <td>Lyft</td>\n",
       "      <td>...</td>\n",
       "      <td>0.1300</td>\n",
       "      <td>1543251600</td>\n",
       "      <td>40.49</td>\n",
       "      <td>1543233600</td>\n",
       "      <td>47.30</td>\n",
       "      <td>1543251600</td>\n",
       "      <td>36.20</td>\n",
       "      <td>1543291200</td>\n",
       "      <td>43.92</td>\n",
       "      <td>1543251600</td>\n",
       "    </tr>\n",
       "    <tr>\n",
       "      <th>2</th>\n",
       "      <td>981a3613-77af-4620-a42a-0c0866077d1e</td>\n",
       "      <td>1.543367e+09</td>\n",
       "      <td>1</td>\n",
       "      <td>28</td>\n",
       "      <td>11</td>\n",
       "      <td>2018-11-28 01:00:22</td>\n",
       "      <td>America/New_York</td>\n",
       "      <td>Haymarket Square</td>\n",
       "      <td>North Station</td>\n",
       "      <td>Lyft</td>\n",
       "      <td>...</td>\n",
       "      <td>0.1064</td>\n",
       "      <td>1543338000</td>\n",
       "      <td>35.36</td>\n",
       "      <td>1543377600</td>\n",
       "      <td>47.55</td>\n",
       "      <td>1543320000</td>\n",
       "      <td>31.04</td>\n",
       "      <td>1543377600</td>\n",
       "      <td>44.12</td>\n",
       "      <td>1543320000</td>\n",
       "    </tr>\n",
       "    <tr>\n",
       "      <th>3</th>\n",
       "      <td>c2d88af2-d278-4bfd-a8d0-29ca77cc5512</td>\n",
       "      <td>1.543554e+09</td>\n",
       "      <td>4</td>\n",
       "      <td>30</td>\n",
       "      <td>11</td>\n",
       "      <td>2018-11-30 04:53:02</td>\n",
       "      <td>America/New_York</td>\n",
       "      <td>Haymarket Square</td>\n",
       "      <td>North Station</td>\n",
       "      <td>Lyft</td>\n",
       "      <td>...</td>\n",
       "      <td>0.0000</td>\n",
       "      <td>1543507200</td>\n",
       "      <td>34.67</td>\n",
       "      <td>1543550400</td>\n",
       "      <td>45.03</td>\n",
       "      <td>1543510800</td>\n",
       "      <td>30.30</td>\n",
       "      <td>1543550400</td>\n",
       "      <td>38.53</td>\n",
       "      <td>1543510800</td>\n",
       "    </tr>\n",
       "    <tr>\n",
       "      <th>4</th>\n",
       "      <td>e0126e1f-8ca9-4f2e-82b3-50505a09db9a</td>\n",
       "      <td>1.543463e+09</td>\n",
       "      <td>3</td>\n",
       "      <td>29</td>\n",
       "      <td>11</td>\n",
       "      <td>2018-11-29 03:49:20</td>\n",
       "      <td>America/New_York</td>\n",
       "      <td>Haymarket Square</td>\n",
       "      <td>North Station</td>\n",
       "      <td>Lyft</td>\n",
       "      <td>...</td>\n",
       "      <td>0.0001</td>\n",
       "      <td>1543420800</td>\n",
       "      <td>33.10</td>\n",
       "      <td>1543402800</td>\n",
       "      <td>42.18</td>\n",
       "      <td>1543420800</td>\n",
       "      <td>29.11</td>\n",
       "      <td>1543392000</td>\n",
       "      <td>35.75</td>\n",
       "      <td>1543420800</td>\n",
       "    </tr>\n",
       "  </tbody>\n",
       "</table>\n",
       "<p>5 rows × 57 columns</p>\n",
       "</div>"
      ],
      "text/plain": [
       "                                     id     timestamp  hour  day  month  \\\n",
       "0  424553bb-7174-41ea-aeb4-fe06d4f4b9d7  1.544953e+09     9   16     12   \n",
       "1  4bd23055-6827-41c6-b23b-3c491f24e74d  1.543284e+09     2   27     11   \n",
       "2  981a3613-77af-4620-a42a-0c0866077d1e  1.543367e+09     1   28     11   \n",
       "3  c2d88af2-d278-4bfd-a8d0-29ca77cc5512  1.543554e+09     4   30     11   \n",
       "4  e0126e1f-8ca9-4f2e-82b3-50505a09db9a  1.543463e+09     3   29     11   \n",
       "\n",
       "              datetime          timezone            source    destination  \\\n",
       "0  2018-12-16 09:30:07  America/New_York  Haymarket Square  North Station   \n",
       "1  2018-11-27 02:00:23  America/New_York  Haymarket Square  North Station   \n",
       "2  2018-11-28 01:00:22  America/New_York  Haymarket Square  North Station   \n",
       "3  2018-11-30 04:53:02  America/New_York  Haymarket Square  North Station   \n",
       "4  2018-11-29 03:49:20  America/New_York  Haymarket Square  North Station   \n",
       "\n",
       "  cab_type  ... precipIntensityMax uvIndexTime  temperatureMin  \\\n",
       "0     Lyft  ...             0.1276  1544979600           39.89   \n",
       "1     Lyft  ...             0.1300  1543251600           40.49   \n",
       "2     Lyft  ...             0.1064  1543338000           35.36   \n",
       "3     Lyft  ...             0.0000  1543507200           34.67   \n",
       "4     Lyft  ...             0.0001  1543420800           33.10   \n",
       "\n",
       "   temperatureMinTime  temperatureMax  temperatureMaxTime  \\\n",
       "0          1545012000           43.68          1544968800   \n",
       "1          1543233600           47.30          1543251600   \n",
       "2          1543377600           47.55          1543320000   \n",
       "3          1543550400           45.03          1543510800   \n",
       "4          1543402800           42.18          1543420800   \n",
       "\n",
       "   apparentTemperatureMin  apparentTemperatureMinTime  apparentTemperatureMax  \\\n",
       "0                   33.73                  1545012000                   38.07   \n",
       "1                   36.20                  1543291200                   43.92   \n",
       "2                   31.04                  1543377600                   44.12   \n",
       "3                   30.30                  1543550400                   38.53   \n",
       "4                   29.11                  1543392000                   35.75   \n",
       "\n",
       "  apparentTemperatureMaxTime  \n",
       "0                 1544958000  \n",
       "1                 1543251600  \n",
       "2                 1543320000  \n",
       "3                 1543510800  \n",
       "4                 1543420800  \n",
       "\n",
       "[5 rows x 57 columns]"
      ]
     },
     "execution_count": 16,
     "metadata": {},
     "output_type": "execute_result"
    }
   ],
   "source": [
    "#menampilkan bentuk data yang akan dianalisis\n",
    "df.head()"
   ]
  },
  {
   "cell_type": "markdown",
   "id": "422ecb70",
   "metadata": {},
   "source": [
    "Karena tujuan kita adalah memprediksi harga perjalanan (target=price) maka perlu dilakukan analisis terhadap :\n",
    "1. Harga perjalanan (perbandingan Uber dan Lyft)\n",
    "2. Pengaruh data numerik terhadap harga perjalanan\n",
    "3. Pengaruh data kategori [ordinal] terhadap harga perjalanan"
   ]
  },
  {
   "cell_type": "markdown",
   "id": "a8d69501",
   "metadata": {},
   "source": [
    "## Measure of Central Tendency"
   ]
  },
  {
   "cell_type": "code",
   "execution_count": 17,
   "id": "0c4fad55",
   "metadata": {},
   "outputs": [
    {
     "data": {
      "text/plain": [
       "16.545125490610985"
      ]
     },
     "execution_count": 17,
     "metadata": {},
     "output_type": "execute_result"
    }
   ],
   "source": [
    "#mengetahui rata-rata harga pemesanan taksi\n",
    "df['price'].mean()"
   ]
  },
  {
   "cell_type": "raw",
   "id": "5e7ce28f",
   "metadata": {},
   "source": [
    "jadi rata-rata harga pemesanan taksi Lyft dan Uber sebesar 16.54 USD. Selanjutnya akan dihitung median dari harga taksi untuk memastikan bahwa rata dapat melaporkan data dengan baik dan data memiliki outlier yang tidak berpengaruh signifikan."
   ]
  },
  {
   "cell_type": "code",
   "execution_count": 18,
   "id": "31740e59",
   "metadata": {},
   "outputs": [
    {
     "data": {
      "text/plain": [
       "16.0"
      ]
     },
     "execution_count": 18,
     "metadata": {},
     "output_type": "execute_result"
    }
   ],
   "source": [
    "#mengetahui median/ nilai tengah kolom price\n",
    "df['price'].median()"
   ]
  },
  {
   "cell_type": "raw",
   "id": "31a14f49",
   "metadata": {},
   "source": [
    "Berdasarkan hasil tersebut maka dapat disimpulkan bahwa tidak ada outlier yang berpengaruh signifikan"
   ]
  },
  {
   "cell_type": "code",
   "execution_count": 19,
   "id": "79d7ec07",
   "metadata": {},
   "outputs": [
    {
     "data": {
      "text/plain": [
       "0    Uber\n",
       "Name: cab_type, dtype: object"
      ]
     },
     "execution_count": 19,
     "metadata": {},
     "output_type": "execute_result"
    }
   ],
   "source": [
    "#mengetahui produk apa yang paling sering digunakan (Lyft/Uber)\n",
    "df['cab_type'].mode()"
   ]
  },
  {
   "cell_type": "raw",
   "id": "6972bbc7",
   "metadata": {},
   "source": [
    "Jadi pengguna lebih banyak memesan produk Uber dari pada Lyft."
   ]
  },
  {
   "cell_type": "markdown",
   "id": "6a927b93",
   "metadata": {},
   "source": [
    "## Measure of Spread/ Dispersion (Variability)"
   ]
  },
  {
   "cell_type": "code",
   "execution_count": 20,
   "id": "c149a773",
   "metadata": {},
   "outputs": [
    {
     "name": "stdout",
     "output_type": "stream",
     "text": [
      "deviasi standar harga taksi : 8.946069063710608 USD\n",
      "deviasi standar durasi perjalanan : 689192.4925855101 detik\n"
     ]
    }
   ],
   "source": [
    "#mengetahui ukuran penyebaran data melalui standar deviasi\n",
    "std_price=df['price'].std(ddof=1)\n",
    "std_timestamp=df['timestamp'].std(ddof=1)\n",
    "print(\"deviasi standar harga taksi :\", std_price, \"USD\")\n",
    "print(\"deviasi standar durasi perjalanan :\", std_timestamp, \"detik\")"
   ]
  },
  {
   "cell_type": "code",
   "execution_count": 21,
   "id": "a3cebcd3",
   "metadata": {},
   "outputs": [
    {
     "data": {
      "text/plain": [
       "1.0899667817227607"
      ]
     },
     "execution_count": 21,
     "metadata": {},
     "output_type": "execute_result"
    }
   ],
   "source": [
    "#mengetahui ukuran penyebaran data melalui skewnes\n",
    "df['price'].skew()"
   ]
  },
  {
   "cell_type": "markdown",
   "id": "c2c7400e",
   "metadata": {},
   "source": [
    "## Measure of Correlation dan Penerapanya"
   ]
  },
  {
   "cell_type": "code",
   "execution_count": 22,
   "id": "ee6bd188",
   "metadata": {},
   "outputs": [
    {
     "data": {
      "image/png": "[encoded data removed]",
      "text/plain": [
       "<Figure size 720x360 with 1 Axes>"
      ]
     },
     "metadata": {},
     "output_type": "display_data"
    }
   ],
   "source": [
    "#Perbandingan harga perjalanan menggunakan Uber dan Lyft\n",
    "sns.set(rc={'figure.figsize':(10,5)})\n",
    "sns.barplot(x='cab_type', y='price', data=df, palette='Blues');"
   ]
  },
  {
   "cell_type": "code",
   "execution_count": 23,
   "id": "cf38355b",
   "metadata": {},
   "outputs": [
    {
     "data": {
      "text/plain": [
       "cab_type\n",
       "Lyft    17.351396\n",
       "Uber    15.902455\n",
       "Name: price, dtype: float64"
      ]
     },
     "execution_count": 23,
     "metadata": {},
     "output_type": "execute_result"
    }
   ],
   "source": [
    "df.groupby('cab_type')['price'].mean()"
   ]
  },
  {
   "cell_type": "markdown",
   "id": "bf6bb253",
   "metadata": {},
   "source": [
    "Berdasarkan barplot dan informasi diatas diketahui bahwa Lyft memiliki harga rata-rata lebih tiggi dari Uber\n",
    "\n",
    "Selanjutnya kita akan melihat perbandingan jumlah pengguna layanan Lyft dan Uber"
   ]
  },
  {
   "cell_type": "code",
   "execution_count": 24,
   "id": "e13ee054",
   "metadata": {},
   "outputs": [
    {
     "data": {
      "image/png": "[encoded data removed]",
      "text/plain": [
       "<Figure size 720x360 with 1 Axes>"
      ]
     },
     "metadata": {},
     "output_type": "display_data"
    }
   ],
   "source": [
    "#Perbandingan jumlah pengguna layanan Lyft dan Uber\n",
    "sns.countplot(x='cab_type', data=df, palette='Greens');"
   ]
  },
  {
   "cell_type": "markdown",
   "id": "c28ef3e2",
   "metadata": {},
   "source": [
    "Melalui countplot tersebut, diperoleh bahwa pengguna Uber lebih banyak daripada pengguna Lyft. Uber dan Lyft masing-masing memiliki jenis taksi yang berbeda. Oleh karena itu, untuk selanjutnya akan dianalisis terkait hubungan antara tarif perjalanan dengan jenis taksi yang dimiliki Uber maupun Lyft."
   ]
  },
  {
   "cell_type": "code",
   "execution_count": 25,
   "id": "3bc77984",
   "metadata": {},
   "outputs": [
    {
     "data": {
      "text/plain": [
       "<AxesSubplot:xlabel='price', ylabel='name'>"
      ]
     },
     "execution_count": 25,
     "metadata": {},
     "output_type": "execute_result"
    },
    {
     "data": {
      "image/png": "[encoded data removed]",
      "text/plain": [
       "<Figure size 720x360 with 1 Axes>"
      ]
     },
     "metadata": {},
     "output_type": "display_data"
    }
   ],
   "source": [
    "#Cek pengaruh jenis taksi Uber dan Lyft terhadap tarif perjalanan\n",
    "df.sort_values('cab_type', inplace=True)\n",
    "sns.set(rc={'figure.figsize':(10,5)})\n",
    "\n",
    "sns.barplot(y='name', x='price', data=df, hue='cab_type')"
   ]
  },
  {
   "cell_type": "code",
   "execution_count": 26,
   "id": "e9072c3e",
   "metadata": {},
   "outputs": [
    {
     "data": {
      "text/plain": [
       "name\n",
       "Black         20.523786\n",
       "BlackSUV      30.286763\n",
       "Lux           17.771240\n",
       "LuxBlack      23.062468\n",
       "LuxBlackXL    32.324086\n",
       "Lyft           9.610885\n",
       "LyftXL        15.309363\n",
       "Shared         6.029893\n",
       "Taxi          16.545125\n",
       "UberPool       8.752500\n",
       "UberX          9.765074\n",
       "UberXL        15.678144\n",
       "WAV            9.765019\n",
       "Name: price, dtype: float64"
      ]
     },
     "execution_count": 26,
     "metadata": {},
     "output_type": "execute_result"
    }
   ],
   "source": [
    "df.groupby('name')['price'].mean()"
   ]
  },
  {
   "cell_type": "markdown",
   "id": "d0503d75",
   "metadata": {},
   "source": [
    "Taksi Lyft yang memiliki rata-rata harga paling mahal adalah LuxBlackXL yaitu 32.324086. Sedangkan, Shared adalah jenis taksi Lyft yang memeiliki rata-rata harga paling murah sebesar 6.029893\n",
    "\n",
    "Taksi Uber yang memiliki rata-rata harga paling mahal adalah BlackSUV sebesar 30.286763. Sedangkan, UberPool adalah jenis taksi Uber yang memeiliki rata-rata harga paling murah sebesar 8.752500\n",
    "\n",
    "Jadi jenis taksi yang dipilih pelanggan mempengaruhi harga perjalanan mereka. "
   ]
  },
  {
   "cell_type": "code",
   "execution_count": 27,
   "id": "1e55328f",
   "metadata": {},
   "outputs": [
    {
     "data": {
      "image/png": "[encoded data removed]",
      "text/plain": [
       "<Figure size 720x360 with 1 Axes>"
      ]
     },
     "metadata": {},
     "output_type": "display_data"
    }
   ],
   "source": [
    "#Korelasi jarak dengan tarif perjalana\n",
    "matrix= np.corrcoef(df['distance'], df['price']).round(decimals=3)\n",
    "fig, ax= plt.subplots()\n",
    "ax.imshow(matrix)\n",
    "ax.grid(False)\n",
    "ax.xaxis.set(ticks=(0,1), ticklabels=('distance', 'price'))\n",
    "ax.yaxis.set(ticks=(0,1), ticklabels=('distance', 'price'))\n",
    "ax.set_ylim(1.5, -0.5)\n",
    "for i in range(2):\n",
    "    for j in range(2):\n",
    "        ax.text(j, i, matrix[i,j], ha='center', va='center', color='w')\n",
    "plt.show()"
   ]
  },
  {
   "cell_type": "code",
   "execution_count": 28,
   "id": "d1f223b8",
   "metadata": {},
   "outputs": [
    {
     "data": {
      "image/png": "[encoded data removed]",
      "text/plain": [
       "<Figure size 432x216 with 2 Axes>"
      ]
     },
     "metadata": {},
     "output_type": "display_data"
    }
   ],
   "source": [
    "g= sns.FacetGrid(df, col='cab_type', hue='name')\n",
    "g.map(plt.scatter, 'distance', 'price')\n",
    "plt.show()"
   ]
  },
  {
   "cell_type": "markdown",
   "id": "27da76b4",
   "metadata": {},
   "source": [
    "Setiap warna pada grafik tersebut mempresentasikan jenis taksi yang dimiliki oleh Uber dan Lyft. Terlihat bahwa tarif perjananan taksi yang dimiliki Lyft lebih besar dari pada Uber meskipun jarak yang ditempuh tidak jauh berbeda.\n",
    "Dari grafik tersebut juga terlihat bahwa jenis taksi mempengaruhi harga. \n",
    "Korelasi antara jarak dan perjalanan memiliki koefisien korelasi sebesar 0,33.\n",
    "Artinya korelasi jarak dan tarif perjalanan dapat dikategorikan cukup berkorelasi."
   ]
  },
  {
   "cell_type": "code",
   "execution_count": 29,
   "id": "f0f3bb23",
   "metadata": {},
   "outputs": [
    {
     "data": {
      "text/html": [
       "<div>\n",
       "<style scoped>\n",
       "    .dataframe tbody tr th:only-of-type {\n",
       "        vertical-align: middle;\n",
       "    }\n",
       "\n",
       "    .dataframe tbody tr th {\n",
       "        vertical-align: top;\n",
       "    }\n",
       "\n",
       "    .dataframe thead th {\n",
       "        text-align: right;\n",
       "    }\n",
       "</style>\n",
       "<table border=\"1\" class=\"dataframe\">\n",
       "  <thead>\n",
       "    <tr style=\"text-align: right;\">\n",
       "      <th>name</th>\n",
       "      <th>source</th>\n",
       "      <th>destination</th>\n",
       "      <th>Black</th>\n",
       "      <th>BlackSUV</th>\n",
       "      <th>Lux</th>\n",
       "      <th>LuxBlack</th>\n",
       "      <th>LuxBlackXL</th>\n",
       "      <th>Lyft</th>\n",
       "      <th>LyftXL</th>\n",
       "      <th>Shared</th>\n",
       "      <th>Taxi</th>\n",
       "      <th>UberPool</th>\n",
       "      <th>UberX</th>\n",
       "      <th>UberXL</th>\n",
       "      <th>WAV</th>\n",
       "      <th>mean</th>\n",
       "    </tr>\n",
       "  </thead>\n",
       "  <tbody>\n",
       "    <tr>\n",
       "      <th>24</th>\n",
       "      <td>Financial District</td>\n",
       "      <td>Boston University</td>\n",
       "      <td>34.228923</td>\n",
       "      <td>43.572633</td>\n",
       "      <td>28.366481</td>\n",
       "      <td>37.477747</td>\n",
       "      <td>46.765647</td>\n",
       "      <td>14.248957</td>\n",
       "      <td>24.299722</td>\n",
       "      <td>9.324757</td>\n",
       "      <td>16.545125</td>\n",
       "      <td>13.400130</td>\n",
       "      <td>14.824903</td>\n",
       "      <td>25.151751</td>\n",
       "      <td>14.824903</td>\n",
       "      <td>24.848591</td>\n",
       "    </tr>\n",
       "    <tr>\n",
       "      <th>14</th>\n",
       "      <td>Boston University</td>\n",
       "      <td>Financial District</td>\n",
       "      <td>30.576524</td>\n",
       "      <td>41.471466</td>\n",
       "      <td>27.541029</td>\n",
       "      <td>35.169680</td>\n",
       "      <td>45.013213</td>\n",
       "      <td>14.180111</td>\n",
       "      <td>23.776078</td>\n",
       "      <td>8.689152</td>\n",
       "      <td>16.545125</td>\n",
       "      <td>10.752918</td>\n",
       "      <td>14.863813</td>\n",
       "      <td>23.495460</td>\n",
       "      <td>14.863813</td>\n",
       "      <td>23.610645</td>\n",
       "    </tr>\n",
       "    <tr>\n",
       "      <th>20</th>\n",
       "      <td>Fenway</td>\n",
       "      <td>Financial District</td>\n",
       "      <td>28.707843</td>\n",
       "      <td>39.377124</td>\n",
       "      <td>27.272538</td>\n",
       "      <td>34.741331</td>\n",
       "      <td>44.819695</td>\n",
       "      <td>14.200416</td>\n",
       "      <td>23.588766</td>\n",
       "      <td>8.412621</td>\n",
       "      <td>16.545125</td>\n",
       "      <td>11.203268</td>\n",
       "      <td>13.479085</td>\n",
       "      <td>22.697386</td>\n",
       "      <td>13.479085</td>\n",
       "      <td>22.963406</td>\n",
       "    </tr>\n",
       "    <tr>\n",
       "      <th>25</th>\n",
       "      <td>Financial District</td>\n",
       "      <td>Fenway</td>\n",
       "      <td>30.640808</td>\n",
       "      <td>39.692960</td>\n",
       "      <td>26.540915</td>\n",
       "      <td>33.971567</td>\n",
       "      <td>43.753814</td>\n",
       "      <td>13.888350</td>\n",
       "      <td>23.061026</td>\n",
       "      <td>8.623440</td>\n",
       "      <td>16.545125</td>\n",
       "      <td>11.225554</td>\n",
       "      <td>13.560626</td>\n",
       "      <td>22.902868</td>\n",
       "      <td>13.560626</td>\n",
       "      <td>22.920591</td>\n",
       "    </tr>\n",
       "    <tr>\n",
       "      <th>50</th>\n",
       "      <td>Northeastern University</td>\n",
       "      <td>Financial District</td>\n",
       "      <td>28.238158</td>\n",
       "      <td>38.856579</td>\n",
       "      <td>25.400556</td>\n",
       "      <td>32.973574</td>\n",
       "      <td>42.012517</td>\n",
       "      <td>13.739221</td>\n",
       "      <td>22.513908</td>\n",
       "      <td>8.190542</td>\n",
       "      <td>16.545125</td>\n",
       "      <td>10.926316</td>\n",
       "      <td>13.248026</td>\n",
       "      <td>22.141447</td>\n",
       "      <td>13.248026</td>\n",
       "      <td>22.156461</td>\n",
       "    </tr>\n",
       "  </tbody>\n",
       "</table>\n",
       "</div>"
      ],
      "text/plain": [
       "name                   source         destination      Black   BlackSUV  \\\n",
       "24         Financial District   Boston University  34.228923  43.572633   \n",
       "14          Boston University  Financial District  30.576524  41.471466   \n",
       "20                     Fenway  Financial District  28.707843  39.377124   \n",
       "25         Financial District              Fenway  30.640808  39.692960   \n",
       "50    Northeastern University  Financial District  28.238158  38.856579   \n",
       "\n",
       "name        Lux   LuxBlack  LuxBlackXL       Lyft     LyftXL    Shared  \\\n",
       "24    28.366481  37.477747   46.765647  14.248957  24.299722  9.324757   \n",
       "14    27.541029  35.169680   45.013213  14.180111  23.776078  8.689152   \n",
       "20    27.272538  34.741331   44.819695  14.200416  23.588766  8.412621   \n",
       "25    26.540915  33.971567   43.753814  13.888350  23.061026  8.623440   \n",
       "50    25.400556  32.973574   42.012517  13.739221  22.513908  8.190542   \n",
       "\n",
       "name       Taxi   UberPool      UberX     UberXL        WAV       mean  \n",
       "24    16.545125  13.400130  14.824903  25.151751  14.824903  24.848591  \n",
       "14    16.545125  10.752918  14.863813  23.495460  14.863813  23.610645  \n",
       "20    16.545125  11.203268  13.479085  22.697386  13.479085  22.963406  \n",
       "25    16.545125  11.225554  13.560626  22.902868  13.560626  22.920591  \n",
       "50    16.545125  10.926316  13.248026  22.141447  13.248026  22.156461  "
      ]
     },
     "execution_count": 29,
     "metadata": {},
     "output_type": "execute_result"
    }
   ],
   "source": [
    "#Harga perjalanan termahal dan termurah\n",
    "destination_price = df.pivot_table(values='price',\n",
    "                       index=['name'],\n",
    "                       columns=['source','destination'],\n",
    "                       aggfunc=np.mean,\n",
    "                       fill_value=0)\n",
    "destination_price.loc['mean'] = destination_price.mean()\n",
    "destination_price = destination_price.T\n",
    "destination_price = destination_price.reset_index(drop=False)\n",
    "destination_price.sort_values('mean', ascending=False, inplace=True)\n",
    "destination_price.head()"
   ]
  },
  {
   "cell_type": "code",
   "execution_count": 30,
   "id": "8e4c5054",
   "metadata": {},
   "outputs": [
    {
     "data": {
      "text/html": [
       "<div>\n",
       "<style scoped>\n",
       "    .dataframe tbody tr th:only-of-type {\n",
       "        vertical-align: middle;\n",
       "    }\n",
       "\n",
       "    .dataframe tbody tr th {\n",
       "        vertical-align: top;\n",
       "    }\n",
       "\n",
       "    .dataframe thead th {\n",
       "        text-align: right;\n",
       "    }\n",
       "</style>\n",
       "<table border=\"1\" class=\"dataframe\">\n",
       "  <thead>\n",
       "    <tr style=\"text-align: right;\">\n",
       "      <th>name</th>\n",
       "      <th>source</th>\n",
       "      <th>destination</th>\n",
       "      <th>Black</th>\n",
       "      <th>BlackSUV</th>\n",
       "      <th>Lux</th>\n",
       "      <th>LuxBlack</th>\n",
       "      <th>LuxBlackXL</th>\n",
       "      <th>Lyft</th>\n",
       "      <th>LyftXL</th>\n",
       "      <th>Shared</th>\n",
       "      <th>Taxi</th>\n",
       "      <th>UberPool</th>\n",
       "      <th>UberX</th>\n",
       "      <th>UberXL</th>\n",
       "      <th>WAV</th>\n",
       "      <th>mean</th>\n",
       "    </tr>\n",
       "  </thead>\n",
       "  <tbody>\n",
       "    <tr>\n",
       "      <th>44</th>\n",
       "      <td>North Station</td>\n",
       "      <td>Haymarket Square</td>\n",
       "      <td>15.675427</td>\n",
       "      <td>26.900788</td>\n",
       "      <td>11.389430</td>\n",
       "      <td>16.716968</td>\n",
       "      <td>27.111961</td>\n",
       "      <td>7.054242</td>\n",
       "      <td>10.425591</td>\n",
       "      <td>4.125174</td>\n",
       "      <td>16.545125</td>\n",
       "      <td>6.455979</td>\n",
       "      <td>7.286465</td>\n",
       "      <td>10.509855</td>\n",
       "      <td>7.286465</td>\n",
       "      <td>12.883344</td>\n",
       "    </tr>\n",
       "    <tr>\n",
       "      <th>35</th>\n",
       "      <td>Haymarket Square</td>\n",
       "      <td>West End</td>\n",
       "      <td>15.616120</td>\n",
       "      <td>26.887295</td>\n",
       "      <td>10.821429</td>\n",
       "      <td>16.620536</td>\n",
       "      <td>26.957589</td>\n",
       "      <td>7.069196</td>\n",
       "      <td>9.625744</td>\n",
       "      <td>4.045387</td>\n",
       "      <td>16.545125</td>\n",
       "      <td>6.508880</td>\n",
       "      <td>7.831967</td>\n",
       "      <td>10.538934</td>\n",
       "      <td>7.831967</td>\n",
       "      <td>12.838475</td>\n",
       "    </tr>\n",
       "    <tr>\n",
       "      <th>56</th>\n",
       "      <td>South Station</td>\n",
       "      <td>Financial District</td>\n",
       "      <td>15.633252</td>\n",
       "      <td>26.883252</td>\n",
       "      <td>11.041505</td>\n",
       "      <td>16.956550</td>\n",
       "      <td>27.517510</td>\n",
       "      <td>7.170558</td>\n",
       "      <td>9.756161</td>\n",
       "      <td>4.113489</td>\n",
       "      <td>16.545125</td>\n",
       "      <td>5.363081</td>\n",
       "      <td>7.224939</td>\n",
       "      <td>10.468826</td>\n",
       "      <td>7.224939</td>\n",
       "      <td>12.761476</td>\n",
       "    </tr>\n",
       "    <tr>\n",
       "      <th>29</th>\n",
       "      <td>Financial District</td>\n",
       "      <td>South Station</td>\n",
       "      <td>15.630196</td>\n",
       "      <td>26.878973</td>\n",
       "      <td>10.949416</td>\n",
       "      <td>16.849546</td>\n",
       "      <td>27.361219</td>\n",
       "      <td>7.114786</td>\n",
       "      <td>9.246433</td>\n",
       "      <td>4.075227</td>\n",
       "      <td>16.545125</td>\n",
       "      <td>6.089242</td>\n",
       "      <td>7.183985</td>\n",
       "      <td>9.712103</td>\n",
       "      <td>7.183985</td>\n",
       "      <td>12.678480</td>\n",
       "    </tr>\n",
       "    <tr>\n",
       "      <th>33</th>\n",
       "      <td>Haymarket Square</td>\n",
       "      <td>North Station</td>\n",
       "      <td>15.613158</td>\n",
       "      <td>26.877632</td>\n",
       "      <td>10.797636</td>\n",
       "      <td>16.604312</td>\n",
       "      <td>26.926287</td>\n",
       "      <td>7.018081</td>\n",
       "      <td>9.166898</td>\n",
       "      <td>4.068150</td>\n",
       "      <td>16.545125</td>\n",
       "      <td>6.789474</td>\n",
       "      <td>7.171711</td>\n",
       "      <td>9.817105</td>\n",
       "      <td>7.171711</td>\n",
       "      <td>12.659021</td>\n",
       "    </tr>\n",
       "  </tbody>\n",
       "</table>\n",
       "</div>"
      ],
      "text/plain": [
       "name              source         destination      Black   BlackSUV        Lux  \\\n",
       "44         North Station    Haymarket Square  15.675427  26.900788  11.389430   \n",
       "35      Haymarket Square            West End  15.616120  26.887295  10.821429   \n",
       "56         South Station  Financial District  15.633252  26.883252  11.041505   \n",
       "29    Financial District       South Station  15.630196  26.878973  10.949416   \n",
       "33      Haymarket Square       North Station  15.613158  26.877632  10.797636   \n",
       "\n",
       "name   LuxBlack  LuxBlackXL      Lyft     LyftXL    Shared       Taxi  \\\n",
       "44    16.716968   27.111961  7.054242  10.425591  4.125174  16.545125   \n",
       "35    16.620536   26.957589  7.069196   9.625744  4.045387  16.545125   \n",
       "56    16.956550   27.517510  7.170558   9.756161  4.113489  16.545125   \n",
       "29    16.849546   27.361219  7.114786   9.246433  4.075227  16.545125   \n",
       "33    16.604312   26.926287  7.018081   9.166898  4.068150  16.545125   \n",
       "\n",
       "name  UberPool     UberX     UberXL       WAV       mean  \n",
       "44    6.455979  7.286465  10.509855  7.286465  12.883344  \n",
       "35    6.508880  7.831967  10.538934  7.831967  12.838475  \n",
       "56    5.363081  7.224939  10.468826  7.224939  12.761476  \n",
       "29    6.089242  7.183985   9.712103  7.183985  12.678480  \n",
       "33    6.789474  7.171711   9.817105  7.171711  12.659021  "
      ]
     },
     "execution_count": 30,
     "metadata": {},
     "output_type": "execute_result"
    }
   ],
   "source": [
    "destination_price.tail()"
   ]
  },
  {
   "cell_type": "markdown",
   "id": "aa0e1a6f",
   "metadata": {},
   "source": [
    "Berdasarkan tabel tersebut, perjalanan dengan harga rata-rata termahal adalah dari Financial District ke Boston University sebesar 24.61. Taksi termahal untuk perjalanan ini adalah Lux BlackXL milik Lyft dengan harga 46.77 USD dan produk termurahnya adalah Shared milik Lyft dengan harga 9.32 USD.\n",
    "\n",
    "Perjalanan dengan harga rata-rata termurah adalah dari Haymarket Square ke North Station sebesar 12.42 USD. Produk termahal untuk perjalanan ini adalah LuxBlackXL milik Lyft dengan harga 26.92 dan produk termurahnya adalah Shared milik Lyft dengan harga 4.07."
   ]
  },
  {
   "cell_type": "code",
   "execution_count": 31,
   "id": "a23082a7",
   "metadata": {},
   "outputs": [
    {
     "data": {
      "text/html": [
       "<div>\n",
       "<style scoped>\n",
       "    .dataframe tbody tr th:only-of-type {\n",
       "        vertical-align: middle;\n",
       "    }\n",
       "\n",
       "    .dataframe tbody tr th {\n",
       "        vertical-align: top;\n",
       "    }\n",
       "\n",
       "    .dataframe thead th {\n",
       "        text-align: right;\n",
       "    }\n",
       "</style>\n",
       "<table border=\"1\" class=\"dataframe\">\n",
       "  <thead>\n",
       "    <tr style=\"text-align: right;\">\n",
       "      <th>surge_multiplier</th>\n",
       "      <th>cab_type</th>\n",
       "      <th>short_summary</th>\n",
       "      <th>1.0</th>\n",
       "      <th>1.25</th>\n",
       "      <th>1.5</th>\n",
       "      <th>1.75</th>\n",
       "      <th>2.0</th>\n",
       "      <th>2.5</th>\n",
       "      <th>3.0</th>\n",
       "      <th>mean</th>\n",
       "    </tr>\n",
       "  </thead>\n",
       "  <tbody>\n",
       "    <tr>\n",
       "      <th>8</th>\n",
       "      <td>Lyft</td>\n",
       "      <td>Rain</td>\n",
       "      <td>16.581970</td>\n",
       "      <td>23.615183</td>\n",
       "      <td>27.435897</td>\n",
       "      <td>36.976190</td>\n",
       "      <td>39.547619</td>\n",
       "      <td>25.500000</td>\n",
       "      <td>65.000000</td>\n",
       "      <td>33.522409</td>\n",
       "    </tr>\n",
       "    <tr>\n",
       "      <th>6</th>\n",
       "      <td>Lyft</td>\n",
       "      <td>Partly Cloudy</td>\n",
       "      <td>16.622169</td>\n",
       "      <td>24.095661</td>\n",
       "      <td>28.335751</td>\n",
       "      <td>33.038540</td>\n",
       "      <td>39.012262</td>\n",
       "      <td>29.666667</td>\n",
       "      <td>62.500000</td>\n",
       "      <td>33.324436</td>\n",
       "    </tr>\n",
       "    <tr>\n",
       "      <th>4</th>\n",
       "      <td>Lyft</td>\n",
       "      <td>Mostly Cloudy</td>\n",
       "      <td>16.593640</td>\n",
       "      <td>23.724283</td>\n",
       "      <td>29.009285</td>\n",
       "      <td>33.342241</td>\n",
       "      <td>39.313910</td>\n",
       "      <td>30.583333</td>\n",
       "      <td>37.750000</td>\n",
       "      <td>30.045242</td>\n",
       "    </tr>\n",
       "    <tr>\n",
       "      <th>3</th>\n",
       "      <td>Lyft</td>\n",
       "      <td>Light Rain</td>\n",
       "      <td>16.589515</td>\n",
       "      <td>23.796782</td>\n",
       "      <td>28.779948</td>\n",
       "      <td>32.702247</td>\n",
       "      <td>40.134831</td>\n",
       "      <td>33.361111</td>\n",
       "      <td>32.833333</td>\n",
       "      <td>29.742538</td>\n",
       "    </tr>\n",
       "    <tr>\n",
       "      <th>5</th>\n",
       "      <td>Lyft</td>\n",
       "      <td>Overcast</td>\n",
       "      <td>16.574693</td>\n",
       "      <td>23.750371</td>\n",
       "      <td>29.377551</td>\n",
       "      <td>34.279861</td>\n",
       "      <td>38.325532</td>\n",
       "      <td>26.912500</td>\n",
       "      <td>35.666667</td>\n",
       "      <td>29.269596</td>\n",
       "    </tr>\n",
       "    <tr>\n",
       "      <th>0</th>\n",
       "      <td>Lyft</td>\n",
       "      <td>Clear</td>\n",
       "      <td>16.519477</td>\n",
       "      <td>23.563738</td>\n",
       "      <td>28.963102</td>\n",
       "      <td>33.220085</td>\n",
       "      <td>40.725490</td>\n",
       "      <td>33.750000</td>\n",
       "      <td>0.000000</td>\n",
       "      <td>25.248842</td>\n",
       "    </tr>\n",
       "    <tr>\n",
       "      <th>7</th>\n",
       "      <td>Lyft</td>\n",
       "      <td>Possible Drizzle</td>\n",
       "      <td>16.539725</td>\n",
       "      <td>23.008361</td>\n",
       "      <td>26.988372</td>\n",
       "      <td>35.623188</td>\n",
       "      <td>36.697917</td>\n",
       "      <td>37.750000</td>\n",
       "      <td>0.000000</td>\n",
       "      <td>25.229652</td>\n",
       "    </tr>\n",
       "    <tr>\n",
       "      <th>2</th>\n",
       "      <td>Lyft</td>\n",
       "      <td>Foggy</td>\n",
       "      <td>16.682484</td>\n",
       "      <td>24.005650</td>\n",
       "      <td>30.913333</td>\n",
       "      <td>33.087500</td>\n",
       "      <td>29.595238</td>\n",
       "      <td>22.500000</td>\n",
       "      <td>0.000000</td>\n",
       "      <td>22.397744</td>\n",
       "    </tr>\n",
       "    <tr>\n",
       "      <th>1</th>\n",
       "      <td>Lyft</td>\n",
       "      <td>Drizzle</td>\n",
       "      <td>16.689300</td>\n",
       "      <td>24.076190</td>\n",
       "      <td>28.436170</td>\n",
       "      <td>31.840909</td>\n",
       "      <td>36.684211</td>\n",
       "      <td>18.000000</td>\n",
       "      <td>0.000000</td>\n",
       "      <td>22.246683</td>\n",
       "    </tr>\n",
       "    <tr>\n",
       "      <th>12</th>\n",
       "      <td>Uber</td>\n",
       "      <td>Light Rain</td>\n",
       "      <td>15.943439</td>\n",
       "      <td>0.000000</td>\n",
       "      <td>0.000000</td>\n",
       "      <td>0.000000</td>\n",
       "      <td>0.000000</td>\n",
       "      <td>0.000000</td>\n",
       "      <td>0.000000</td>\n",
       "      <td>2.277634</td>\n",
       "    </tr>\n",
       "    <tr>\n",
       "      <th>13</th>\n",
       "      <td>Uber</td>\n",
       "      <td>Mostly Cloudy</td>\n",
       "      <td>15.942647</td>\n",
       "      <td>0.000000</td>\n",
       "      <td>0.000000</td>\n",
       "      <td>0.000000</td>\n",
       "      <td>0.000000</td>\n",
       "      <td>0.000000</td>\n",
       "      <td>0.000000</td>\n",
       "      <td>2.277521</td>\n",
       "    </tr>\n",
       "    <tr>\n",
       "      <th>17</th>\n",
       "      <td>Uber</td>\n",
       "      <td>Rain</td>\n",
       "      <td>15.933125</td>\n",
       "      <td>0.000000</td>\n",
       "      <td>0.000000</td>\n",
       "      <td>0.000000</td>\n",
       "      <td>0.000000</td>\n",
       "      <td>0.000000</td>\n",
       "      <td>0.000000</td>\n",
       "      <td>2.276161</td>\n",
       "    </tr>\n",
       "    <tr>\n",
       "      <th>16</th>\n",
       "      <td>Uber</td>\n",
       "      <td>Possible Drizzle</td>\n",
       "      <td>15.910676</td>\n",
       "      <td>0.000000</td>\n",
       "      <td>0.000000</td>\n",
       "      <td>0.000000</td>\n",
       "      <td>0.000000</td>\n",
       "      <td>0.000000</td>\n",
       "      <td>0.000000</td>\n",
       "      <td>2.272954</td>\n",
       "    </tr>\n",
       "    <tr>\n",
       "      <th>14</th>\n",
       "      <td>Uber</td>\n",
       "      <td>Overcast</td>\n",
       "      <td>15.905516</td>\n",
       "      <td>0.000000</td>\n",
       "      <td>0.000000</td>\n",
       "      <td>0.000000</td>\n",
       "      <td>0.000000</td>\n",
       "      <td>0.000000</td>\n",
       "      <td>0.000000</td>\n",
       "      <td>2.272217</td>\n",
       "    </tr>\n",
       "    <tr>\n",
       "      <th>15</th>\n",
       "      <td>Uber</td>\n",
       "      <td>Partly Cloudy</td>\n",
       "      <td>15.882905</td>\n",
       "      <td>0.000000</td>\n",
       "      <td>0.000000</td>\n",
       "      <td>0.000000</td>\n",
       "      <td>0.000000</td>\n",
       "      <td>0.000000</td>\n",
       "      <td>0.000000</td>\n",
       "      <td>2.268986</td>\n",
       "    </tr>\n",
       "    <tr>\n",
       "      <th>10</th>\n",
       "      <td>Uber</td>\n",
       "      <td>Drizzle</td>\n",
       "      <td>15.879992</td>\n",
       "      <td>0.000000</td>\n",
       "      <td>0.000000</td>\n",
       "      <td>0.000000</td>\n",
       "      <td>0.000000</td>\n",
       "      <td>0.000000</td>\n",
       "      <td>0.000000</td>\n",
       "      <td>2.268570</td>\n",
       "    </tr>\n",
       "    <tr>\n",
       "      <th>9</th>\n",
       "      <td>Uber</td>\n",
       "      <td>Clear</td>\n",
       "      <td>15.834589</td>\n",
       "      <td>0.000000</td>\n",
       "      <td>0.000000</td>\n",
       "      <td>0.000000</td>\n",
       "      <td>0.000000</td>\n",
       "      <td>0.000000</td>\n",
       "      <td>0.000000</td>\n",
       "      <td>2.262084</td>\n",
       "    </tr>\n",
       "    <tr>\n",
       "      <th>11</th>\n",
       "      <td>Uber</td>\n",
       "      <td>Foggy</td>\n",
       "      <td>15.777710</td>\n",
       "      <td>0.000000</td>\n",
       "      <td>0.000000</td>\n",
       "      <td>0.000000</td>\n",
       "      <td>0.000000</td>\n",
       "      <td>0.000000</td>\n",
       "      <td>0.000000</td>\n",
       "      <td>2.253959</td>\n",
       "    </tr>\n",
       "  </tbody>\n",
       "</table>\n",
       "</div>"
      ],
      "text/plain": [
       "surge_multiplier cab_type       short_summary        1.0       1.25  \\\n",
       "8                    Lyft               Rain   16.581970  23.615183   \n",
       "6                    Lyft      Partly Cloudy   16.622169  24.095661   \n",
       "4                    Lyft      Mostly Cloudy   16.593640  23.724283   \n",
       "3                    Lyft         Light Rain   16.589515  23.796782   \n",
       "5                    Lyft           Overcast   16.574693  23.750371   \n",
       "0                    Lyft              Clear   16.519477  23.563738   \n",
       "7                    Lyft   Possible Drizzle   16.539725  23.008361   \n",
       "2                    Lyft              Foggy   16.682484  24.005650   \n",
       "1                    Lyft            Drizzle   16.689300  24.076190   \n",
       "12                   Uber         Light Rain   15.943439   0.000000   \n",
       "13                   Uber      Mostly Cloudy   15.942647   0.000000   \n",
       "17                   Uber               Rain   15.933125   0.000000   \n",
       "16                   Uber   Possible Drizzle   15.910676   0.000000   \n",
       "14                   Uber           Overcast   15.905516   0.000000   \n",
       "15                   Uber      Partly Cloudy   15.882905   0.000000   \n",
       "10                   Uber            Drizzle   15.879992   0.000000   \n",
       "9                    Uber              Clear   15.834589   0.000000   \n",
       "11                   Uber              Foggy   15.777710   0.000000   \n",
       "\n",
       "surge_multiplier        1.5       1.75        2.0        2.5        3.0  \\\n",
       "8                 27.435897  36.976190  39.547619  25.500000  65.000000   \n",
       "6                 28.335751  33.038540  39.012262  29.666667  62.500000   \n",
       "4                 29.009285  33.342241  39.313910  30.583333  37.750000   \n",
       "3                 28.779948  32.702247  40.134831  33.361111  32.833333   \n",
       "5                 29.377551  34.279861  38.325532  26.912500  35.666667   \n",
       "0                 28.963102  33.220085  40.725490  33.750000   0.000000   \n",
       "7                 26.988372  35.623188  36.697917  37.750000   0.000000   \n",
       "2                 30.913333  33.087500  29.595238  22.500000   0.000000   \n",
       "1                 28.436170  31.840909  36.684211  18.000000   0.000000   \n",
       "12                 0.000000   0.000000   0.000000   0.000000   0.000000   \n",
       "13                 0.000000   0.000000   0.000000   0.000000   0.000000   \n",
       "17                 0.000000   0.000000   0.000000   0.000000   0.000000   \n",
       "16                 0.000000   0.000000   0.000000   0.000000   0.000000   \n",
       "14                 0.000000   0.000000   0.000000   0.000000   0.000000   \n",
       "15                 0.000000   0.000000   0.000000   0.000000   0.000000   \n",
       "10                 0.000000   0.000000   0.000000   0.000000   0.000000   \n",
       "9                  0.000000   0.000000   0.000000   0.000000   0.000000   \n",
       "11                 0.000000   0.000000   0.000000   0.000000   0.000000   \n",
       "\n",
       "surge_multiplier       mean  \n",
       "8                 33.522409  \n",
       "6                 33.324436  \n",
       "4                 30.045242  \n",
       "3                 29.742538  \n",
       "5                 29.269596  \n",
       "0                 25.248842  \n",
       "7                 25.229652  \n",
       "2                 22.397744  \n",
       "1                 22.246683  \n",
       "12                 2.277634  \n",
       "13                 2.277521  \n",
       "17                 2.276161  \n",
       "16                 2.272954  \n",
       "14                 2.272217  \n",
       "15                 2.268986  \n",
       "10                 2.268570  \n",
       "9                  2.262084  \n",
       "11                 2.253959  "
      ]
     },
     "execution_count": 31,
     "metadata": {},
     "output_type": "execute_result"
    }
   ],
   "source": [
    "#Pengaruh cuaca dan lonjakan jumlah pesanan terhadap harga\n",
    "short_surge = df.pivot_table(values='price',\n",
    "                       index=['surge_multiplier'],\n",
    "                       columns=['cab_type', 'short_summary'],\n",
    "                       aggfunc=np.mean,\n",
    "                       fill_value=0)\n",
    "short_surge.loc['mean'] = short_surge.mean()\n",
    "short_surge = short_surge.T\n",
    "short_surge = short_surge.reset_index(drop=False)\n",
    "\n",
    "short_surge.sort_values('mean', ascending=False, inplace=True)\n",
    "short_surge"
   ]
  },
  {
   "cell_type": "code",
   "execution_count": 32,
   "id": "1a68e150",
   "metadata": {},
   "outputs": [
    {
     "data": {
      "image/png": "[encoded data removed]",
      "text/plain": [
       "<Figure size 720x360 with 1 Axes>"
      ]
     },
     "metadata": {},
     "output_type": "display_data"
    }
   ],
   "source": [
    "sns.set(rc={'figure.figsize':(10,5)})\n",
    "sns.barplot(x='mean', y='short_summary', hue= df.cab_type, data=short_surge);"
   ]
  },
  {
   "cell_type": "markdown",
   "id": "f2c7b5a0",
   "metadata": {},
   "source": [
    "Cuaca dan jumlah lonjakan pemesanan memengaruhi harga layanan taksi Lyft. Rain membuat jumlah pesanan taksi Lyft meningkat signifikan yaitu 3.0 dengan tarif perjalanannya 65.00.Peningkatan pemesanan taksi uber paling tinggi sebesar 1.0 dengan tarif perjalanan paling mahal sebesar 15.51 "
   ]
  },
  {
   "cell_type": "markdown",
   "id": "539b93f9",
   "metadata": {},
   "source": [
    "### Correlation Analysis"
   ]
  },
  {
   "cell_type": "markdown",
   "id": "e9daaaf0",
   "metadata": {},
   "source": [
    "Sesuai dengan tujuan yaitu memprediksi harga perjalanan maka ada beberapa variabel independen yang memengaruhinya yaitu \n",
    "* hour\n",
    "* day\n",
    "* month\n",
    "* source\n",
    "* destination\n",
    "* cab_type\n",
    "* name\n",
    "* distance\n",
    "* surge_multiplier\n",
    "* latitude\n",
    "* longitude\n",
    "* temperature\n",
    "* short_summary\n",
    "* humidity\n",
    "* visibility\n",
    "* price"
   ]
  },
  {
   "cell_type": "code",
   "execution_count": 33,
   "id": "2f39f3e5",
   "metadata": {},
   "outputs": [
    {
     "data": {
      "text/html": [
       "<div>\n",
       "<style scoped>\n",
       "    .dataframe tbody tr th:only-of-type {\n",
       "        vertical-align: middle;\n",
       "    }\n",
       "\n",
       "    .dataframe tbody tr th {\n",
       "        vertical-align: top;\n",
       "    }\n",
       "\n",
       "    .dataframe thead th {\n",
       "        text-align: right;\n",
       "    }\n",
       "</style>\n",
       "<table border=\"1\" class=\"dataframe\">\n",
       "  <thead>\n",
       "    <tr style=\"text-align: right;\">\n",
       "      <th></th>\n",
       "      <th>cab_type</th>\n",
       "      <th>name</th>\n",
       "      <th>hour</th>\n",
       "      <th>day</th>\n",
       "      <th>month</th>\n",
       "      <th>source</th>\n",
       "      <th>destination</th>\n",
       "      <th>price</th>\n",
       "      <th>distance</th>\n",
       "      <th>short_summary</th>\n",
       "      <th>temperature</th>\n",
       "      <th>visibility</th>\n",
       "      <th>windSpeed</th>\n",
       "      <th>surge_multiplier</th>\n",
       "      <th>price</th>\n",
       "    </tr>\n",
       "  </thead>\n",
       "  <tbody>\n",
       "    <tr>\n",
       "      <th>0</th>\n",
       "      <td>Lyft</td>\n",
       "      <td>Shared</td>\n",
       "      <td>9</td>\n",
       "      <td>16</td>\n",
       "      <td>12</td>\n",
       "      <td>Haymarket Square</td>\n",
       "      <td>North Station</td>\n",
       "      <td>5.0</td>\n",
       "      <td>0.44</td>\n",
       "      <td>Mostly Cloudy</td>\n",
       "      <td>42.34</td>\n",
       "      <td>10.000</td>\n",
       "      <td>8.66</td>\n",
       "      <td>1.0</td>\n",
       "      <td>5.0</td>\n",
       "    </tr>\n",
       "    <tr>\n",
       "      <th>543594</th>\n",
       "      <td>Lyft</td>\n",
       "      <td>Lux</td>\n",
       "      <td>11</td>\n",
       "      <td>17</td>\n",
       "      <td>12</td>\n",
       "      <td>Back Bay</td>\n",
       "      <td>North End</td>\n",
       "      <td>22.5</td>\n",
       "      <td>2.98</td>\n",
       "      <td>Overcast</td>\n",
       "      <td>34.87</td>\n",
       "      <td>8.275</td>\n",
       "      <td>7.37</td>\n",
       "      <td>1.0</td>\n",
       "      <td>22.5</td>\n",
       "    </tr>\n",
       "    <tr>\n",
       "      <th>543596</th>\n",
       "      <td>Lyft</td>\n",
       "      <td>Lyft</td>\n",
       "      <td>11</td>\n",
       "      <td>17</td>\n",
       "      <td>12</td>\n",
       "      <td>Haymarket Square</td>\n",
       "      <td>Financial District</td>\n",
       "      <td>7.0</td>\n",
       "      <td>1.01</td>\n",
       "      <td>Overcast</td>\n",
       "      <td>34.87</td>\n",
       "      <td>8.275</td>\n",
       "      <td>7.37</td>\n",
       "      <td>1.0</td>\n",
       "      <td>7.0</td>\n",
       "    </tr>\n",
       "    <tr>\n",
       "      <th>543597</th>\n",
       "      <td>Lyft</td>\n",
       "      <td>Lux</td>\n",
       "      <td>11</td>\n",
       "      <td>17</td>\n",
       "      <td>12</td>\n",
       "      <td>Haymarket Square</td>\n",
       "      <td>Financial District</td>\n",
       "      <td>11.0</td>\n",
       "      <td>1.01</td>\n",
       "      <td>Overcast</td>\n",
       "      <td>34.87</td>\n",
       "      <td>8.275</td>\n",
       "      <td>7.37</td>\n",
       "      <td>1.0</td>\n",
       "      <td>11.0</td>\n",
       "    </tr>\n",
       "    <tr>\n",
       "      <th>543598</th>\n",
       "      <td>Lyft</td>\n",
       "      <td>LyftXL</td>\n",
       "      <td>14</td>\n",
       "      <td>14</td>\n",
       "      <td>12</td>\n",
       "      <td>Haymarket Square</td>\n",
       "      <td>Financial District</td>\n",
       "      <td>11.0</td>\n",
       "      <td>1.01</td>\n",
       "      <td>Clear</td>\n",
       "      <td>36.08</td>\n",
       "      <td>9.832</td>\n",
       "      <td>3.02</td>\n",
       "      <td>1.0</td>\n",
       "      <td>11.0</td>\n",
       "    </tr>\n",
       "  </tbody>\n",
       "</table>\n",
       "</div>"
      ],
      "text/plain": [
       "       cab_type    name  hour  day  month            source  \\\n",
       "0          Lyft  Shared     9   16     12  Haymarket Square   \n",
       "543594     Lyft     Lux    11   17     12          Back Bay   \n",
       "543596     Lyft    Lyft    11   17     12  Haymarket Square   \n",
       "543597     Lyft     Lux    11   17     12  Haymarket Square   \n",
       "543598     Lyft  LyftXL    14   14     12  Haymarket Square   \n",
       "\n",
       "               destination  price  distance    short_summary  temperature  \\\n",
       "0            North Station    5.0      0.44   Mostly Cloudy         42.34   \n",
       "543594           North End   22.5      2.98        Overcast         34.87   \n",
       "543596  Financial District    7.0      1.01        Overcast         34.87   \n",
       "543597  Financial District   11.0      1.01        Overcast         34.87   \n",
       "543598  Financial District   11.0      1.01           Clear         36.08   \n",
       "\n",
       "        visibility  windSpeed  surge_multiplier  price  \n",
       "0           10.000       8.66               1.0    5.0  \n",
       "543594       8.275       7.37               1.0   22.5  \n",
       "543596       8.275       7.37               1.0    7.0  \n",
       "543597       8.275       7.37               1.0   11.0  \n",
       "543598       9.832       3.02               1.0   11.0  "
      ]
     },
     "execution_count": 33,
     "metadata": {},
     "output_type": "execute_result"
    }
   ],
   "source": [
    "new_column = [\"cab_type\",\"name\",\"hour\",\"day\",\"month\",\"source\",\"destination\",\"price\",\"distance\",\"short_summary\",\"temperature\",\"visibility\",\"windSpeed\",\"surge_multiplier\", \"price\"]\n",
    "df_new= df[new_column]\n",
    "df_new.head()"
   ]
  },
  {
   "cell_type": "markdown",
   "id": "cce18e20",
   "metadata": {},
   "source": [
    "Sekarang mari kita coba cek dari semua atribut milik df_new, mana yang memiliki korelasi tertinggi. Atribut-atribut dengan korelasi tertinggi lah yang akan kita pilih untuk modelling nantinya."
   ]
  },
  {
   "cell_type": "code",
   "execution_count": 34,
   "id": "7a427616",
   "metadata": {},
   "outputs": [
    {
     "data": {
      "image/png": "[encoded data removed]",
      "text/plain": [
       "<Figure size 2160x2160 with 2 Axes>"
      ]
     },
     "metadata": {},
     "output_type": "display_data"
    }
   ],
   "source": [
    "plt.figure(figsize=(30,30))\n",
    "sns.heatmap(df_new.corr(),annot=True);"
   ]
  },
  {
   "cell_type": "markdown",
   "id": "7ac0e547",
   "metadata": {},
   "source": [
    "## Data Modeling"
   ]
  },
  {
   "cell_type": "markdown",
   "id": "c7407e88",
   "metadata": {},
   "source": [
    "### Encoding"
   ]
  },
  {
   "cell_type": "code",
   "execution_count": 35,
   "id": "e00c7cc5",
   "metadata": {},
   "outputs": [
    {
     "data": {
      "text/html": [
       "<div>\n",
       "<style scoped>\n",
       "    .dataframe tbody tr th:only-of-type {\n",
       "        vertical-align: middle;\n",
       "    }\n",
       "\n",
       "    .dataframe tbody tr th {\n",
       "        vertical-align: top;\n",
       "    }\n",
       "\n",
       "    .dataframe thead th {\n",
       "        text-align: right;\n",
       "    }\n",
       "</style>\n",
       "<table border=\"1\" class=\"dataframe\">\n",
       "  <thead>\n",
       "    <tr style=\"text-align: right;\">\n",
       "      <th></th>\n",
       "      <th>cab_type</th>\n",
       "      <th>name</th>\n",
       "      <th>hour</th>\n",
       "      <th>day</th>\n",
       "      <th>month</th>\n",
       "      <th>source</th>\n",
       "      <th>destination</th>\n",
       "      <th>price</th>\n",
       "      <th>distance</th>\n",
       "      <th>short_summary</th>\n",
       "      <th>temperature</th>\n",
       "      <th>visibility</th>\n",
       "      <th>windSpeed</th>\n",
       "      <th>surge_multiplier</th>\n",
       "    </tr>\n",
       "  </thead>\n",
       "  <tbody>\n",
       "    <tr>\n",
       "      <th>0</th>\n",
       "      <td>Lyft</td>\n",
       "      <td>Shared</td>\n",
       "      <td>9</td>\n",
       "      <td>16</td>\n",
       "      <td>12</td>\n",
       "      <td>Haymarket Square</td>\n",
       "      <td>North Station</td>\n",
       "      <td>5.0</td>\n",
       "      <td>0.44</td>\n",
       "      <td>Mostly Cloudy</td>\n",
       "      <td>42.34</td>\n",
       "      <td>10.000</td>\n",
       "      <td>8.66</td>\n",
       "      <td>1.0</td>\n",
       "    </tr>\n",
       "    <tr>\n",
       "      <th>543594</th>\n",
       "      <td>Lyft</td>\n",
       "      <td>Lux</td>\n",
       "      <td>11</td>\n",
       "      <td>17</td>\n",
       "      <td>12</td>\n",
       "      <td>Back Bay</td>\n",
       "      <td>North End</td>\n",
       "      <td>22.5</td>\n",
       "      <td>2.98</td>\n",
       "      <td>Overcast</td>\n",
       "      <td>34.87</td>\n",
       "      <td>8.275</td>\n",
       "      <td>7.37</td>\n",
       "      <td>1.0</td>\n",
       "    </tr>\n",
       "    <tr>\n",
       "      <th>543596</th>\n",
       "      <td>Lyft</td>\n",
       "      <td>Lyft</td>\n",
       "      <td>11</td>\n",
       "      <td>17</td>\n",
       "      <td>12</td>\n",
       "      <td>Haymarket Square</td>\n",
       "      <td>Financial District</td>\n",
       "      <td>7.0</td>\n",
       "      <td>1.01</td>\n",
       "      <td>Overcast</td>\n",
       "      <td>34.87</td>\n",
       "      <td>8.275</td>\n",
       "      <td>7.37</td>\n",
       "      <td>1.0</td>\n",
       "    </tr>\n",
       "    <tr>\n",
       "      <th>543597</th>\n",
       "      <td>Lyft</td>\n",
       "      <td>Lux</td>\n",
       "      <td>11</td>\n",
       "      <td>17</td>\n",
       "      <td>12</td>\n",
       "      <td>Haymarket Square</td>\n",
       "      <td>Financial District</td>\n",
       "      <td>11.0</td>\n",
       "      <td>1.01</td>\n",
       "      <td>Overcast</td>\n",
       "      <td>34.87</td>\n",
       "      <td>8.275</td>\n",
       "      <td>7.37</td>\n",
       "      <td>1.0</td>\n",
       "    </tr>\n",
       "    <tr>\n",
       "      <th>543598</th>\n",
       "      <td>Lyft</td>\n",
       "      <td>LyftXL</td>\n",
       "      <td>14</td>\n",
       "      <td>14</td>\n",
       "      <td>12</td>\n",
       "      <td>Haymarket Square</td>\n",
       "      <td>Financial District</td>\n",
       "      <td>11.0</td>\n",
       "      <td>1.01</td>\n",
       "      <td>Clear</td>\n",
       "      <td>36.08</td>\n",
       "      <td>9.832</td>\n",
       "      <td>3.02</td>\n",
       "      <td>1.0</td>\n",
       "    </tr>\n",
       "    <tr>\n",
       "      <th>...</th>\n",
       "      <td>...</td>\n",
       "      <td>...</td>\n",
       "      <td>...</td>\n",
       "      <td>...</td>\n",
       "      <td>...</td>\n",
       "      <td>...</td>\n",
       "      <td>...</td>\n",
       "      <td>...</td>\n",
       "      <td>...</td>\n",
       "      <td>...</td>\n",
       "      <td>...</td>\n",
       "      <td>...</td>\n",
       "      <td>...</td>\n",
       "      <td>...</td>\n",
       "    </tr>\n",
       "    <tr>\n",
       "      <th>297546</th>\n",
       "      <td>Uber</td>\n",
       "      <td>UberPool</td>\n",
       "      <td>6</td>\n",
       "      <td>26</td>\n",
       "      <td>11</td>\n",
       "      <td>Back Bay</td>\n",
       "      <td>North End</td>\n",
       "      <td>10.0</td>\n",
       "      <td>3.16</td>\n",
       "      <td>Overcast</td>\n",
       "      <td>41.83</td>\n",
       "      <td>5.589</td>\n",
       "      <td>1.83</td>\n",
       "      <td>1.0</td>\n",
       "    </tr>\n",
       "    <tr>\n",
       "      <th>297545</th>\n",
       "      <td>Uber</td>\n",
       "      <td>UberX</td>\n",
       "      <td>6</td>\n",
       "      <td>26</td>\n",
       "      <td>11</td>\n",
       "      <td>West End</td>\n",
       "      <td>South Station</td>\n",
       "      <td>7.0</td>\n",
       "      <td>1.26</td>\n",
       "      <td>Overcast</td>\n",
       "      <td>41.83</td>\n",
       "      <td>5.589</td>\n",
       "      <td>1.83</td>\n",
       "      <td>1.0</td>\n",
       "    </tr>\n",
       "    <tr>\n",
       "      <th>297544</th>\n",
       "      <td>Uber</td>\n",
       "      <td>BlackSUV</td>\n",
       "      <td>6</td>\n",
       "      <td>26</td>\n",
       "      <td>11</td>\n",
       "      <td>West End</td>\n",
       "      <td>South Station</td>\n",
       "      <td>27.5</td>\n",
       "      <td>1.26</td>\n",
       "      <td>Overcast</td>\n",
       "      <td>41.83</td>\n",
       "      <td>5.589</td>\n",
       "      <td>1.83</td>\n",
       "      <td>1.0</td>\n",
       "    </tr>\n",
       "    <tr>\n",
       "      <th>297470</th>\n",
       "      <td>Uber</td>\n",
       "      <td>WAV</td>\n",
       "      <td>4</td>\n",
       "      <td>29</td>\n",
       "      <td>11</td>\n",
       "      <td>Northeastern University</td>\n",
       "      <td>Back Bay</td>\n",
       "      <td>8.5</td>\n",
       "      <td>1.64</td>\n",
       "      <td>Mostly Cloudy</td>\n",
       "      <td>38.18</td>\n",
       "      <td>10.000</td>\n",
       "      <td>8.52</td>\n",
       "      <td>1.0</td>\n",
       "    </tr>\n",
       "    <tr>\n",
       "      <th>693070</th>\n",
       "      <td>Uber</td>\n",
       "      <td>UberPool</td>\n",
       "      <td>23</td>\n",
       "      <td>1</td>\n",
       "      <td>12</td>\n",
       "      <td>West End</td>\n",
       "      <td>North End</td>\n",
       "      <td>10.0</td>\n",
       "      <td>1.00</td>\n",
       "      <td>Partly Cloudy</td>\n",
       "      <td>37.05</td>\n",
       "      <td>9.785</td>\n",
       "      <td>2.34</td>\n",
       "      <td>1.0</td>\n",
       "    </tr>\n",
       "  </tbody>\n",
       "</table>\n",
       "<p>693071 rows × 14 columns</p>\n",
       "</div>"
      ],
      "text/plain": [
       "       cab_type      name  hour  day  month                   source  \\\n",
       "0          Lyft    Shared     9   16     12         Haymarket Square   \n",
       "543594     Lyft       Lux    11   17     12                 Back Bay   \n",
       "543596     Lyft      Lyft    11   17     12         Haymarket Square   \n",
       "543597     Lyft       Lux    11   17     12         Haymarket Square   \n",
       "543598     Lyft    LyftXL    14   14     12         Haymarket Square   \n",
       "...         ...       ...   ...  ...    ...                      ...   \n",
       "297546     Uber  UberPool     6   26     11                 Back Bay   \n",
       "297545     Uber     UberX     6   26     11                 West End   \n",
       "297544     Uber  BlackSUV     6   26     11                 West End   \n",
       "297470     Uber       WAV     4   29     11  Northeastern University   \n",
       "693070     Uber  UberPool    23    1     12                 West End   \n",
       "\n",
       "               destination  price  distance    short_summary  temperature  \\\n",
       "0            North Station    5.0      0.44   Mostly Cloudy         42.34   \n",
       "543594           North End   22.5      2.98        Overcast         34.87   \n",
       "543596  Financial District    7.0      1.01        Overcast         34.87   \n",
       "543597  Financial District   11.0      1.01        Overcast         34.87   \n",
       "543598  Financial District   11.0      1.01           Clear         36.08   \n",
       "...                    ...    ...       ...              ...          ...   \n",
       "297546           North End   10.0      3.16        Overcast         41.83   \n",
       "297545       South Station    7.0      1.26        Overcast         41.83   \n",
       "297544       South Station   27.5      1.26        Overcast         41.83   \n",
       "297470            Back Bay    8.5      1.64   Mostly Cloudy         38.18   \n",
       "693070           North End   10.0      1.00   Partly Cloudy         37.05   \n",
       "\n",
       "        visibility  windSpeed  surge_multiplier  \n",
       "0           10.000       8.66               1.0  \n",
       "543594       8.275       7.37               1.0  \n",
       "543596       8.275       7.37               1.0  \n",
       "543597       8.275       7.37               1.0  \n",
       "543598       9.832       3.02               1.0  \n",
       "...            ...        ...               ...  \n",
       "297546       5.589       1.83               1.0  \n",
       "297545       5.589       1.83               1.0  \n",
       "297544       5.589       1.83               1.0  \n",
       "297470      10.000       8.52               1.0  \n",
       "693070       9.785       2.34               1.0  \n",
       "\n",
       "[693071 rows x 14 columns]"
      ]
     },
     "execution_count": 35,
     "metadata": {},
     "output_type": "execute_result"
    }
   ],
   "source": [
    "df2 = df[[\"cab_type\",\"name\",\"hour\",\"day\",\"month\",\"source\",\"destination\",\"price\",\"distance\",\"short_summary\",\"temperature\",\"visibility\",\"windSpeed\",\"surge_multiplier\"]]\n",
    "df2"
   ]
  },
  {
   "cell_type": "code",
   "execution_count": 36,
   "id": "dff79738",
   "metadata": {},
   "outputs": [
    {
     "data": {
      "text/html": [
       "<div>\n",
       "<style scoped>\n",
       "    .dataframe tbody tr th:only-of-type {\n",
       "        vertical-align: middle;\n",
       "    }\n",
       "\n",
       "    .dataframe tbody tr th {\n",
       "        vertical-align: top;\n",
       "    }\n",
       "\n",
       "    .dataframe thead th {\n",
       "        text-align: right;\n",
       "    }\n",
       "</style>\n",
       "<table border=\"1\" class=\"dataframe\">\n",
       "  <thead>\n",
       "    <tr style=\"text-align: right;\">\n",
       "      <th></th>\n",
       "      <th>cab_type</th>\n",
       "      <th>name</th>\n",
       "      <th>hour</th>\n",
       "      <th>day</th>\n",
       "      <th>month</th>\n",
       "      <th>source</th>\n",
       "      <th>destination</th>\n",
       "      <th>price</th>\n",
       "      <th>distance</th>\n",
       "      <th>short_summary</th>\n",
       "      <th>temperature</th>\n",
       "      <th>visibility</th>\n",
       "      <th>windSpeed</th>\n",
       "      <th>surge_multiplier</th>\n",
       "    </tr>\n",
       "  </thead>\n",
       "  <tbody>\n",
       "    <tr>\n",
       "      <th>0</th>\n",
       "      <td>0</td>\n",
       "      <td>7</td>\n",
       "      <td>9</td>\n",
       "      <td>9</td>\n",
       "      <td>1</td>\n",
       "      <td>5</td>\n",
       "      <td>7</td>\n",
       "      <td>4</td>\n",
       "      <td>15</td>\n",
       "      <td>4</td>\n",
       "      <td>205</td>\n",
       "      <td>226</td>\n",
       "      <td>231</td>\n",
       "      <td>0</td>\n",
       "    </tr>\n",
       "    <tr>\n",
       "      <th>543594</th>\n",
       "      <td>0</td>\n",
       "      <td>2</td>\n",
       "      <td>11</td>\n",
       "      <td>10</td>\n",
       "      <td>1</td>\n",
       "      <td>0</td>\n",
       "      <td>6</td>\n",
       "      <td>47</td>\n",
       "      <td>269</td>\n",
       "      <td>5</td>\n",
       "      <td>72</td>\n",
       "      <td>82</td>\n",
       "      <td>199</td>\n",
       "      <td>0</td>\n",
       "    </tr>\n",
       "    <tr>\n",
       "      <th>543596</th>\n",
       "      <td>0</td>\n",
       "      <td>5</td>\n",
       "      <td>11</td>\n",
       "      <td>10</td>\n",
       "      <td>1</td>\n",
       "      <td>5</td>\n",
       "      <td>4</td>\n",
       "      <td>8</td>\n",
       "      <td>72</td>\n",
       "      <td>5</td>\n",
       "      <td>72</td>\n",
       "      <td>82</td>\n",
       "      <td>199</td>\n",
       "      <td>0</td>\n",
       "    </tr>\n",
       "    <tr>\n",
       "      <th>543597</th>\n",
       "      <td>0</td>\n",
       "      <td>2</td>\n",
       "      <td>11</td>\n",
       "      <td>10</td>\n",
       "      <td>1</td>\n",
       "      <td>5</td>\n",
       "      <td>4</td>\n",
       "      <td>20</td>\n",
       "      <td>72</td>\n",
       "      <td>5</td>\n",
       "      <td>72</td>\n",
       "      <td>82</td>\n",
       "      <td>199</td>\n",
       "      <td>0</td>\n",
       "    </tr>\n",
       "    <tr>\n",
       "      <th>543598</th>\n",
       "      <td>0</td>\n",
       "      <td>6</td>\n",
       "      <td>14</td>\n",
       "      <td>7</td>\n",
       "      <td>1</td>\n",
       "      <td>5</td>\n",
       "      <td>4</td>\n",
       "      <td>20</td>\n",
       "      <td>72</td>\n",
       "      <td>0</td>\n",
       "      <td>83</td>\n",
       "      <td>146</td>\n",
       "      <td>63</td>\n",
       "      <td>0</td>\n",
       "    </tr>\n",
       "    <tr>\n",
       "      <th>...</th>\n",
       "      <td>...</td>\n",
       "      <td>...</td>\n",
       "      <td>...</td>\n",
       "      <td>...</td>\n",
       "      <td>...</td>\n",
       "      <td>...</td>\n",
       "      <td>...</td>\n",
       "      <td>...</td>\n",
       "      <td>...</td>\n",
       "      <td>...</td>\n",
       "      <td>...</td>\n",
       "      <td>...</td>\n",
       "      <td>...</td>\n",
       "      <td>...</td>\n",
       "    </tr>\n",
       "    <tr>\n",
       "      <th>297546</th>\n",
       "      <td>1</td>\n",
       "      <td>9</td>\n",
       "      <td>6</td>\n",
       "      <td>12</td>\n",
       "      <td>0</td>\n",
       "      <td>0</td>\n",
       "      <td>6</td>\n",
       "      <td>17</td>\n",
       "      <td>287</td>\n",
       "      <td>5</td>\n",
       "      <td>190</td>\n",
       "      <td>63</td>\n",
       "      <td>13</td>\n",
       "      <td>0</td>\n",
       "    </tr>\n",
       "    <tr>\n",
       "      <th>297545</th>\n",
       "      <td>1</td>\n",
       "      <td>10</td>\n",
       "      <td>6</td>\n",
       "      <td>12</td>\n",
       "      <td>0</td>\n",
       "      <td>11</td>\n",
       "      <td>9</td>\n",
       "      <td>8</td>\n",
       "      <td>97</td>\n",
       "      <td>5</td>\n",
       "      <td>190</td>\n",
       "      <td>63</td>\n",
       "      <td>13</td>\n",
       "      <td>0</td>\n",
       "    </tr>\n",
       "    <tr>\n",
       "      <th>297544</th>\n",
       "      <td>1</td>\n",
       "      <td>1</td>\n",
       "      <td>6</td>\n",
       "      <td>12</td>\n",
       "      <td>0</td>\n",
       "      <td>11</td>\n",
       "      <td>9</td>\n",
       "      <td>57</td>\n",
       "      <td>97</td>\n",
       "      <td>5</td>\n",
       "      <td>190</td>\n",
       "      <td>63</td>\n",
       "      <td>13</td>\n",
       "      <td>0</td>\n",
       "    </tr>\n",
       "    <tr>\n",
       "      <th>297470</th>\n",
       "      <td>1</td>\n",
       "      <td>12</td>\n",
       "      <td>4</td>\n",
       "      <td>15</td>\n",
       "      <td>0</td>\n",
       "      <td>8</td>\n",
       "      <td>0</td>\n",
       "      <td>13</td>\n",
       "      <td>135</td>\n",
       "      <td>4</td>\n",
       "      <td>111</td>\n",
       "      <td>226</td>\n",
       "      <td>229</td>\n",
       "      <td>0</td>\n",
       "    </tr>\n",
       "    <tr>\n",
       "      <th>693070</th>\n",
       "      <td>1</td>\n",
       "      <td>9</td>\n",
       "      <td>23</td>\n",
       "      <td>0</td>\n",
       "      <td>1</td>\n",
       "      <td>11</td>\n",
       "      <td>6</td>\n",
       "      <td>17</td>\n",
       "      <td>71</td>\n",
       "      <td>6</td>\n",
       "      <td>92</td>\n",
       "      <td>135</td>\n",
       "      <td>33</td>\n",
       "      <td>0</td>\n",
       "    </tr>\n",
       "  </tbody>\n",
       "</table>\n",
       "<p>693071 rows × 14 columns</p>\n",
       "</div>"
      ],
      "text/plain": [
       "        cab_type  name  hour  day  month  source  destination  price  \\\n",
       "0              0     7     9    9      1       5            7      4   \n",
       "543594         0     2    11   10      1       0            6     47   \n",
       "543596         0     5    11   10      1       5            4      8   \n",
       "543597         0     2    11   10      1       5            4     20   \n",
       "543598         0     6    14    7      1       5            4     20   \n",
       "...          ...   ...   ...  ...    ...     ...          ...    ...   \n",
       "297546         1     9     6   12      0       0            6     17   \n",
       "297545         1    10     6   12      0      11            9      8   \n",
       "297544         1     1     6   12      0      11            9     57   \n",
       "297470         1    12     4   15      0       8            0     13   \n",
       "693070         1     9    23    0      1      11            6     17   \n",
       "\n",
       "        distance  short_summary  temperature  visibility  windSpeed  \\\n",
       "0             15              4          205         226        231   \n",
       "543594       269              5           72          82        199   \n",
       "543596        72              5           72          82        199   \n",
       "543597        72              5           72          82        199   \n",
       "543598        72              0           83         146         63   \n",
       "...          ...            ...          ...         ...        ...   \n",
       "297546       287              5          190          63         13   \n",
       "297545        97              5          190          63         13   \n",
       "297544        97              5          190          63         13   \n",
       "297470       135              4          111         226        229   \n",
       "693070        71              6           92         135         33   \n",
       "\n",
       "        surge_multiplier  \n",
       "0                      0  \n",
       "543594                 0  \n",
       "543596                 0  \n",
       "543597                 0  \n",
       "543598                 0  \n",
       "...                  ...  \n",
       "297546                 0  \n",
       "297545                 0  \n",
       "297544                 0  \n",
       "297470                 0  \n",
       "693070                 0  \n",
       "\n",
       "[693071 rows x 14 columns]"
      ]
     },
     "execution_count": 36,
     "metadata": {},
     "output_type": "execute_result"
    }
   ],
   "source": [
    "#Melakukan encoding dengan Label Encoder pada atribut yang memiliki tipe data Object.\n",
    "class MultiColumnLabelEncoder:\n",
    "    def __init__(self, columns=None):\n",
    "        self.columns = columns\n",
    "\n",
    "    def fit(self, X, y=None):\n",
    "        return self\n",
    "\n",
    "    def transform(self, X):\n",
    "        output = X.copy()\n",
    "        if self.columns is not None:\n",
    "            for col in self.columns:\n",
    "                output[col] = LabelEncoder().fit_transform(output[col])\n",
    "        else:\n",
    "            for colname, col in output.iteritems():\n",
    "                output[colname] = LabelEncoder().fit_transform(col)\n",
    "        return output\n",
    "\n",
    "    def fit_transform(self, X, y=None):\n",
    "        return self.fit(X, y).transform(X)\n",
    "\n",
    "\n",
    "encoding_pipeline = Pipeline([\n",
    "    ('encoding', MultiColumnLabelEncoder(columns =[\"cab_type\",\"name\",\"hour\",\"day\",\"month\",\"source\",\"destination\",\n",
    "                                                   \"price\",\"distance\",\"short_summary\",\"windSpeed\",\"temperature\",\"visibility\",\"surge_multiplier\"]))\n",
    "])\n",
    "\n",
    "#Membuat variabel df_rfe untuk menampung hasil encode\n",
    "df_enc = encoding_pipeline.fit_transform(df2)\n",
    "df_enc"
   ]
  },
  {
   "cell_type": "code",
   "execution_count": 37,
   "id": "c1209068",
   "metadata": {},
   "outputs": [
    {
     "name": "stdout",
     "output_type": "stream",
     "text": [
      "<class 'pandas.core.frame.DataFrame'>\n",
      "Int64Index: 693071 entries, 0 to 693070\n",
      "Data columns (total 14 columns):\n",
      " #   Column            Non-Null Count   Dtype\n",
      "---  ------            --------------   -----\n",
      " 0   cab_type          693071 non-null  int64\n",
      " 1   name              693071 non-null  int64\n",
      " 2   hour              693071 non-null  int64\n",
      " 3   day               693071 non-null  int64\n",
      " 4   month             693071 non-null  int64\n",
      " 5   source            693071 non-null  int64\n",
      " 6   destination       693071 non-null  int64\n",
      " 7   price             693071 non-null  int64\n",
      " 8   distance          693071 non-null  int64\n",
      " 9   short_summary     693071 non-null  int64\n",
      " 10  temperature       693071 non-null  int64\n",
      " 11  visibility        693071 non-null  int64\n",
      " 12  windSpeed         693071 non-null  int64\n",
      " 13  surge_multiplier  693071 non-null  int64\n",
      "dtypes: int64(14)\n",
      "memory usage: 79.3 MB\n"
     ]
    }
   ],
   "source": [
    "df_enc.info()"
   ]
  },
  {
   "cell_type": "code",
   "execution_count": 38,
   "id": "f97edc51",
   "metadata": {},
   "outputs": [
    {
     "data": {
      "text/plain": [
       "(693071, 13)"
      ]
     },
     "execution_count": 38,
     "metadata": {},
     "output_type": "execute_result"
    }
   ],
   "source": [
    "x = df_enc.drop([\"price\"], axis=1)\n",
    "x.shape"
   ]
  },
  {
   "cell_type": "code",
   "execution_count": 39,
   "id": "5d2ec89a",
   "metadata": {},
   "outputs": [
    {
     "data": {
      "text/plain": [
       "(693071,)"
      ]
     },
     "execution_count": 39,
     "metadata": {},
     "output_type": "execute_result"
    }
   ],
   "source": [
    "y = df_enc['price']\n",
    "y.shape"
   ]
  },
  {
   "cell_type": "markdown",
   "id": "2f2efacf",
   "metadata": {},
   "source": [
    "### Feature Selection"
   ]
  },
  {
   "cell_type": "code",
   "execution_count": 40,
   "id": "fd963646",
   "metadata": {},
   "outputs": [
    {
     "name": "stdout",
     "output_type": "stream",
     "text": [
      "               Specs          Score\n",
      "1               name  348094.164777\n",
      "7           distance   88686.627998\n",
      "12  surge_multiplier   38377.178322\n",
      "0           cab_type    3948.927783\n",
      "6        destination    1427.857933\n",
      "5             source     403.036280\n",
      "8      short_summary       1.103261\n",
      "11         windSpeed       0.822406\n",
      "10        visibility       0.700018\n",
      "3                day       0.590517\n"
     ]
    }
   ],
   "source": [
    "bestfeatures = SelectKBest(score_func=f_regression, k=10)\n",
    "fit = bestfeatures.fit(x,y)\n",
    "dfscores = pd.DataFrame(fit.scores_)\n",
    "dfcolumns = pd.DataFrame(x.columns)\n",
    "featureScores = pd.concat([dfcolumns, dfscores], axis=1)\n",
    "featureScores.columns = ['Specs','Score']\n",
    "print(featureScores.nlargest(10,'Score'))"
   ]
  },
  {
   "cell_type": "markdown",
   "id": "92c71736",
   "metadata": {},
   "source": [
    "Didapatkan 10 fitur terbaik untuk menjadi pembanding dari harga, yakni name, distance, surge_multiplier, cab_type, destination, source, short_summary, windSpeed, visibility dan day."
   ]
  },
  {
   "cell_type": "code",
   "execution_count": 41,
   "id": "8a1beb14",
   "metadata": {},
   "outputs": [
    {
     "data": {
      "text/html": [
       "<div>\n",
       "<style scoped>\n",
       "    .dataframe tbody tr th:only-of-type {\n",
       "        vertical-align: middle;\n",
       "    }\n",
       "\n",
       "    .dataframe tbody tr th {\n",
       "        vertical-align: top;\n",
       "    }\n",
       "\n",
       "    .dataframe thead th {\n",
       "        text-align: right;\n",
       "    }\n",
       "</style>\n",
       "<table border=\"1\" class=\"dataframe\">\n",
       "  <thead>\n",
       "    <tr style=\"text-align: right;\">\n",
       "      <th></th>\n",
       "      <th>name</th>\n",
       "      <th>distance</th>\n",
       "      <th>surge_multiplier</th>\n",
       "      <th>cab_type</th>\n",
       "      <th>destination</th>\n",
       "      <th>source</th>\n",
       "      <th>visibility</th>\n",
       "      <th>windSpeed</th>\n",
       "      <th>short_summary</th>\n",
       "      <th>day</th>\n",
       "    </tr>\n",
       "  </thead>\n",
       "  <tbody>\n",
       "    <tr>\n",
       "      <th>0</th>\n",
       "      <td>7</td>\n",
       "      <td>15</td>\n",
       "      <td>0</td>\n",
       "      <td>0</td>\n",
       "      <td>7</td>\n",
       "      <td>5</td>\n",
       "      <td>226</td>\n",
       "      <td>231</td>\n",
       "      <td>4</td>\n",
       "      <td>9</td>\n",
       "    </tr>\n",
       "    <tr>\n",
       "      <th>543594</th>\n",
       "      <td>2</td>\n",
       "      <td>269</td>\n",
       "      <td>0</td>\n",
       "      <td>0</td>\n",
       "      <td>6</td>\n",
       "      <td>0</td>\n",
       "      <td>82</td>\n",
       "      <td>199</td>\n",
       "      <td>5</td>\n",
       "      <td>10</td>\n",
       "    </tr>\n",
       "    <tr>\n",
       "      <th>543596</th>\n",
       "      <td>5</td>\n",
       "      <td>72</td>\n",
       "      <td>0</td>\n",
       "      <td>0</td>\n",
       "      <td>4</td>\n",
       "      <td>5</td>\n",
       "      <td>82</td>\n",
       "      <td>199</td>\n",
       "      <td>5</td>\n",
       "      <td>10</td>\n",
       "    </tr>\n",
       "    <tr>\n",
       "      <th>543597</th>\n",
       "      <td>2</td>\n",
       "      <td>72</td>\n",
       "      <td>0</td>\n",
       "      <td>0</td>\n",
       "      <td>4</td>\n",
       "      <td>5</td>\n",
       "      <td>82</td>\n",
       "      <td>199</td>\n",
       "      <td>5</td>\n",
       "      <td>10</td>\n",
       "    </tr>\n",
       "    <tr>\n",
       "      <th>543598</th>\n",
       "      <td>6</td>\n",
       "      <td>72</td>\n",
       "      <td>0</td>\n",
       "      <td>0</td>\n",
       "      <td>4</td>\n",
       "      <td>5</td>\n",
       "      <td>146</td>\n",
       "      <td>63</td>\n",
       "      <td>0</td>\n",
       "      <td>7</td>\n",
       "    </tr>\n",
       "    <tr>\n",
       "      <th>...</th>\n",
       "      <td>...</td>\n",
       "      <td>...</td>\n",
       "      <td>...</td>\n",
       "      <td>...</td>\n",
       "      <td>...</td>\n",
       "      <td>...</td>\n",
       "      <td>...</td>\n",
       "      <td>...</td>\n",
       "      <td>...</td>\n",
       "      <td>...</td>\n",
       "    </tr>\n",
       "    <tr>\n",
       "      <th>297546</th>\n",
       "      <td>9</td>\n",
       "      <td>287</td>\n",
       "      <td>0</td>\n",
       "      <td>1</td>\n",
       "      <td>6</td>\n",
       "      <td>0</td>\n",
       "      <td>63</td>\n",
       "      <td>13</td>\n",
       "      <td>5</td>\n",
       "      <td>12</td>\n",
       "    </tr>\n",
       "    <tr>\n",
       "      <th>297545</th>\n",
       "      <td>10</td>\n",
       "      <td>97</td>\n",
       "      <td>0</td>\n",
       "      <td>1</td>\n",
       "      <td>9</td>\n",
       "      <td>11</td>\n",
       "      <td>63</td>\n",
       "      <td>13</td>\n",
       "      <td>5</td>\n",
       "      <td>12</td>\n",
       "    </tr>\n",
       "    <tr>\n",
       "      <th>297544</th>\n",
       "      <td>1</td>\n",
       "      <td>97</td>\n",
       "      <td>0</td>\n",
       "      <td>1</td>\n",
       "      <td>9</td>\n",
       "      <td>11</td>\n",
       "      <td>63</td>\n",
       "      <td>13</td>\n",
       "      <td>5</td>\n",
       "      <td>12</td>\n",
       "    </tr>\n",
       "    <tr>\n",
       "      <th>297470</th>\n",
       "      <td>12</td>\n",
       "      <td>135</td>\n",
       "      <td>0</td>\n",
       "      <td>1</td>\n",
       "      <td>0</td>\n",
       "      <td>8</td>\n",
       "      <td>226</td>\n",
       "      <td>229</td>\n",
       "      <td>4</td>\n",
       "      <td>15</td>\n",
       "    </tr>\n",
       "    <tr>\n",
       "      <th>693070</th>\n",
       "      <td>9</td>\n",
       "      <td>71</td>\n",
       "      <td>0</td>\n",
       "      <td>1</td>\n",
       "      <td>6</td>\n",
       "      <td>11</td>\n",
       "      <td>135</td>\n",
       "      <td>33</td>\n",
       "      <td>6</td>\n",
       "      <td>0</td>\n",
       "    </tr>\n",
       "  </tbody>\n",
       "</table>\n",
       "<p>693071 rows × 10 columns</p>\n",
       "</div>"
      ],
      "text/plain": [
       "        name  distance  surge_multiplier  cab_type  destination  source  \\\n",
       "0          7        15                 0         0            7       5   \n",
       "543594     2       269                 0         0            6       0   \n",
       "543596     5        72                 0         0            4       5   \n",
       "543597     2        72                 0         0            4       5   \n",
       "543598     6        72                 0         0            4       5   \n",
       "...      ...       ...               ...       ...          ...     ...   \n",
       "297546     9       287                 0         1            6       0   \n",
       "297545    10        97                 0         1            9      11   \n",
       "297544     1        97                 0         1            9      11   \n",
       "297470    12       135                 0         1            0       8   \n",
       "693070     9        71                 0         1            6      11   \n",
       "\n",
       "        visibility  windSpeed  short_summary  day  \n",
       "0              226        231              4    9  \n",
       "543594          82        199              5   10  \n",
       "543596          82        199              5   10  \n",
       "543597          82        199              5   10  \n",
       "543598         146         63              0    7  \n",
       "...            ...        ...            ...  ...  \n",
       "297546          63         13              5   12  \n",
       "297545          63         13              5   12  \n",
       "297544          63         13              5   12  \n",
       "297470         226        229              4   15  \n",
       "693070         135         33              6    0  \n",
       "\n",
       "[693071 rows x 10 columns]"
      ]
     },
     "execution_count": 41,
     "metadata": {},
     "output_type": "execute_result"
    }
   ],
   "source": [
    "x_fit = df_enc[['name','distance','surge_multiplier','cab_type','destination',\n",
    "               'source','visibility','windSpeed','short_summary','day']]\n",
    "x_fit"
   ]
  },
  {
   "cell_type": "markdown",
   "id": "da353d71",
   "metadata": {},
   "source": [
    "### Model Definition"
   ]
  },
  {
   "cell_type": "code",
   "execution_count": 42,
   "id": "1e427678",
   "metadata": {},
   "outputs": [],
   "source": [
    "X_train, X_test, Y_train, Y_test = train_test_split(x_fit, y, test_size=0.20)"
   ]
  },
  {
   "cell_type": "markdown",
   "id": "cf6cdb04",
   "metadata": {},
   "source": [
    "### Linear Regression"
   ]
  },
  {
   "cell_type": "code",
   "execution_count": 43,
   "id": "7dc2affc",
   "metadata": {},
   "outputs": [
    {
     "data": {
      "text/plain": [
       "(138615, 10)"
      ]
     },
     "execution_count": 43,
     "metadata": {},
     "output_type": "execute_result"
    }
   ],
   "source": [
    "X_test.shape"
   ]
  },
  {
   "cell_type": "code",
   "execution_count": 44,
   "id": "8b5b3502",
   "metadata": {},
   "outputs": [
    {
     "data": {
      "text/plain": [
       "(138615,)"
      ]
     },
     "execution_count": 44,
     "metadata": {},
     "output_type": "execute_result"
    }
   ],
   "source": [
    "Y_test.shape"
   ]
  },
  {
   "cell_type": "code",
   "execution_count": 45,
   "id": "b5df124e",
   "metadata": {},
   "outputs": [
    {
     "data": {
      "text/plain": [
       "(554456, 10)"
      ]
     },
     "execution_count": 45,
     "metadata": {},
     "output_type": "execute_result"
    }
   ],
   "source": [
    "X_train.shape"
   ]
  },
  {
   "cell_type": "code",
   "execution_count": 46,
   "id": "ef4ad5fd",
   "metadata": {},
   "outputs": [
    {
     "data": {
      "text/plain": [
       "(554456,)"
      ]
     },
     "execution_count": 46,
     "metadata": {},
     "output_type": "execute_result"
    }
   ],
   "source": [
    "Y_train.shape"
   ]
  },
  {
   "cell_type": "code",
   "execution_count": 47,
   "id": "6a0cd749",
   "metadata": {},
   "outputs": [],
   "source": [
    "lr = LinearRegression().fit(X_train,Y_train)"
   ]
  },
  {
   "cell_type": "code",
   "execution_count": 48,
   "id": "2ecb247c",
   "metadata": {},
   "outputs": [
    {
     "name": "stdout",
     "output_type": "stream",
     "text": [
      "intercept:  35.45955299890635\n",
      "slope:  [-3.44755738e+00  6.20550997e-02  1.14713358e+01  7.97719524e+00\n",
      "  3.42729682e-02  7.42213291e-02 -5.95006184e-05 -1.90468412e-05\n",
      "  9.51637100e-03 -5.73677051e-03]\n"
     ]
    }
   ],
   "source": [
    "print('intercept: ', lr.intercept_)\n",
    "print('slope: ', lr.coef_)"
   ]
  },
  {
   "cell_type": "markdown",
   "id": "ffa8c97c",
   "metadata": {},
   "source": [
    "Pada analisis regresi linear ini, didapatkan nilai intercept sekitar 35.46 yang berarti nilai respons yang diprediksi ketika fitur bernilai sama dengan 0. Peningkatan x_1 sebesar 1 menghasilkan kenaikan respons yang diprediksi sebesar -3.45, x_2 mengalami peningkatan sebesar 1 akan menghasilkan kenaikan respons yang diprediksi sebesar 6.20e-02, dan seterusnya."
   ]
  },
  {
   "cell_type": "code",
   "execution_count": 49,
   "id": "f70be558",
   "metadata": {},
   "outputs": [
    {
     "data": {
      "text/plain": [
       "array([23.62131119, 29.05641197, 36.52889372, ..., 65.83513746,\n",
       "       41.52510241, 20.8695563 ])"
      ]
     },
     "execution_count": 49,
     "metadata": {},
     "output_type": "execute_result"
    }
   ],
   "source": [
    "y_pred = lr.predict(X_test)\n",
    "y_pred"
   ]
  },
  {
   "cell_type": "code",
   "execution_count": 50,
   "id": "abee976b",
   "metadata": {},
   "outputs": [
    {
     "data": {
      "text/plain": [
       "(138615,)"
      ]
     },
     "execution_count": 50,
     "metadata": {},
     "output_type": "execute_result"
    }
   ],
   "source": [
    "y_pred.shape"
   ]
  },
  {
   "cell_type": "code",
   "execution_count": 51,
   "id": "8a5d536b",
   "metadata": {},
   "outputs": [
    {
     "name": "stdout",
     "output_type": "stream",
     "text": [
      "Linear Regression train R-squared : 0.5091\n",
      "Linear Regression test R-squared : 0.5057\n"
     ]
    }
   ],
   "source": [
    "print('Linear Regression train R-squared : %.4f' % lr.score(X_train, Y_train))\n",
    "print('Linear Regression test R-squared : %.4f' % lr.score(X_test, Y_test))"
   ]
  },
  {
   "cell_type": "code",
   "execution_count": 52,
   "id": "af7b3e30",
   "metadata": {},
   "outputs": [
    {
     "name": "stdout",
     "output_type": "stream",
     "text": [
      "Linear Regression RMSE: 14.4449\n"
     ]
    }
   ],
   "source": [
    "lr_mse = mean_squared_error(y_pred, Y_test)\n",
    "lr_rmse = np.sqrt(lr_mse)\n",
    "print('Linear Regression RMSE: %.4f' % lr_rmse)"
   ]
  },
  {
   "cell_type": "markdown",
   "id": "643ff1bd",
   "metadata": {},
   "source": [
    "### Decision Tree"
   ]
  },
  {
   "cell_type": "code",
   "execution_count": 53,
   "id": "e0eddefc",
   "metadata": {},
   "outputs": [
    {
     "name": "stdout",
     "output_type": "stream",
     "text": [
      "Decision Tree train R squared : 0.9928\n",
      "Decision Tree test R squared\": 0.9420\n"
     ]
    }
   ],
   "source": [
    "from sklearn.tree import DecisionTreeRegressor\n",
    "\n",
    "dt = DecisionTreeRegressor()\n",
    "\n",
    "dt_model = dt.fit(X_train, Y_train)\n",
    "\n",
    "y_pred2 = dt_model.predict(X_test)\n",
    "l_dt_train_r2 = dt.score(X_train,Y_train)\n",
    "l_dt_test_r2 = dt.score(X_test, Y_test)\n",
    "print('Decision Tree train R squared : %.4f' % l_dt_train_r2)\n",
    "print('Decision Tree test R squared\": %.4f' % l_dt_test_r2)"
   ]
  },
  {
   "cell_type": "code",
   "execution_count": 54,
   "id": "671d9e3b",
   "metadata": {},
   "outputs": [
    {
     "name": "stdout",
     "output_type": "stream",
     "text": [
      "Decision Tree Regressor RMSE: 4.9478\n"
     ]
    }
   ],
   "source": [
    "dt_mse = mean_squared_error(y_pred2, Y_test)\n",
    "dt_rmse = np.sqrt(dt_mse)\n",
    "print('Decision Tree Regressor RMSE: %.4f' % dt_rmse)"
   ]
  },
  {
   "cell_type": "markdown",
   "id": "ea0f281b",
   "metadata": {},
   "source": [
    "## Kesimpulan Model"
   ]
  },
  {
   "cell_type": "markdown",
   "id": "8bb4eb74",
   "metadata": {},
   "source": [
    "Dari analisis model yang telah dilakukan, diperoleh beberapa kesimpulan :\n",
    "\n",
    "1. Terdapat 10 atribut/faktor yang mempengaruhi tarif taksi online, diantaranya yaitu name, distance, surge_multiplier, cab_type, destination, source, visibility, windSpeed, short_summary, dan day.\n",
    "2. Metode yang paling tepat digunakan dalam pembuatan model adalah metode Decision Tree, karena tingkat akurasinya tertinggi daripada Regresi Linear. Tingkat akurasi pada Decision Tree mencapai 94.20% dengan Mean Squared Error yaitu 4.95, sedangkan tingkat akurasi pada Linear Regression mencapai 50.57% dengan Mean Squared Error sebesar 14.44"
   ]
  },
  {
   "cell_type": "markdown",
   "id": "2024d455",
   "metadata": {},
   "source": [
    "### Visualisasi Model"
   ]
  },
  {
   "cell_type": "code",
   "execution_count": 55,
   "id": "779668d6",
   "metadata": {},
   "outputs": [
    {
     "data": {
      "text/html": [
       "<div>\n",
       "<style scoped>\n",
       "    .dataframe tbody tr th:only-of-type {\n",
       "        vertical-align: middle;\n",
       "    }\n",
       "\n",
       "    .dataframe tbody tr th {\n",
       "        vertical-align: top;\n",
       "    }\n",
       "\n",
       "    .dataframe thead th {\n",
       "        text-align: right;\n",
       "    }\n",
       "</style>\n",
       "<table border=\"1\" class=\"dataframe\">\n",
       "  <thead>\n",
       "    <tr style=\"text-align: right;\">\n",
       "      <th></th>\n",
       "      <th>name</th>\n",
       "      <th>distance</th>\n",
       "      <th>surge_multiplier</th>\n",
       "      <th>cab_type</th>\n",
       "      <th>destination</th>\n",
       "      <th>source</th>\n",
       "      <th>visibility</th>\n",
       "      <th>windSpeed</th>\n",
       "      <th>short_summary</th>\n",
       "      <th>day</th>\n",
       "      <th>price</th>\n",
       "    </tr>\n",
       "  </thead>\n",
       "  <tbody>\n",
       "    <tr>\n",
       "      <th>0</th>\n",
       "      <td>7</td>\n",
       "      <td>15</td>\n",
       "      <td>0</td>\n",
       "      <td>0</td>\n",
       "      <td>7</td>\n",
       "      <td>5</td>\n",
       "      <td>226</td>\n",
       "      <td>231</td>\n",
       "      <td>4</td>\n",
       "      <td>9</td>\n",
       "      <td>4</td>\n",
       "    </tr>\n",
       "    <tr>\n",
       "      <th>543594</th>\n",
       "      <td>2</td>\n",
       "      <td>269</td>\n",
       "      <td>0</td>\n",
       "      <td>0</td>\n",
       "      <td>6</td>\n",
       "      <td>0</td>\n",
       "      <td>82</td>\n",
       "      <td>199</td>\n",
       "      <td>5</td>\n",
       "      <td>10</td>\n",
       "      <td>47</td>\n",
       "    </tr>\n",
       "    <tr>\n",
       "      <th>543596</th>\n",
       "      <td>5</td>\n",
       "      <td>72</td>\n",
       "      <td>0</td>\n",
       "      <td>0</td>\n",
       "      <td>4</td>\n",
       "      <td>5</td>\n",
       "      <td>82</td>\n",
       "      <td>199</td>\n",
       "      <td>5</td>\n",
       "      <td>10</td>\n",
       "      <td>8</td>\n",
       "    </tr>\n",
       "    <tr>\n",
       "      <th>543597</th>\n",
       "      <td>2</td>\n",
       "      <td>72</td>\n",
       "      <td>0</td>\n",
       "      <td>0</td>\n",
       "      <td>4</td>\n",
       "      <td>5</td>\n",
       "      <td>82</td>\n",
       "      <td>199</td>\n",
       "      <td>5</td>\n",
       "      <td>10</td>\n",
       "      <td>20</td>\n",
       "    </tr>\n",
       "    <tr>\n",
       "      <th>543598</th>\n",
       "      <td>6</td>\n",
       "      <td>72</td>\n",
       "      <td>0</td>\n",
       "      <td>0</td>\n",
       "      <td>4</td>\n",
       "      <td>5</td>\n",
       "      <td>146</td>\n",
       "      <td>63</td>\n",
       "      <td>0</td>\n",
       "      <td>7</td>\n",
       "      <td>20</td>\n",
       "    </tr>\n",
       "    <tr>\n",
       "      <th>...</th>\n",
       "      <td>...</td>\n",
       "      <td>...</td>\n",
       "      <td>...</td>\n",
       "      <td>...</td>\n",
       "      <td>...</td>\n",
       "      <td>...</td>\n",
       "      <td>...</td>\n",
       "      <td>...</td>\n",
       "      <td>...</td>\n",
       "      <td>...</td>\n",
       "      <td>...</td>\n",
       "    </tr>\n",
       "    <tr>\n",
       "      <th>297546</th>\n",
       "      <td>9</td>\n",
       "      <td>287</td>\n",
       "      <td>0</td>\n",
       "      <td>1</td>\n",
       "      <td>6</td>\n",
       "      <td>0</td>\n",
       "      <td>63</td>\n",
       "      <td>13</td>\n",
       "      <td>5</td>\n",
       "      <td>12</td>\n",
       "      <td>17</td>\n",
       "    </tr>\n",
       "    <tr>\n",
       "      <th>297545</th>\n",
       "      <td>10</td>\n",
       "      <td>97</td>\n",
       "      <td>0</td>\n",
       "      <td>1</td>\n",
       "      <td>9</td>\n",
       "      <td>11</td>\n",
       "      <td>63</td>\n",
       "      <td>13</td>\n",
       "      <td>5</td>\n",
       "      <td>12</td>\n",
       "      <td>8</td>\n",
       "    </tr>\n",
       "    <tr>\n",
       "      <th>297544</th>\n",
       "      <td>1</td>\n",
       "      <td>97</td>\n",
       "      <td>0</td>\n",
       "      <td>1</td>\n",
       "      <td>9</td>\n",
       "      <td>11</td>\n",
       "      <td>63</td>\n",
       "      <td>13</td>\n",
       "      <td>5</td>\n",
       "      <td>12</td>\n",
       "      <td>57</td>\n",
       "    </tr>\n",
       "    <tr>\n",
       "      <th>297470</th>\n",
       "      <td>12</td>\n",
       "      <td>135</td>\n",
       "      <td>0</td>\n",
       "      <td>1</td>\n",
       "      <td>0</td>\n",
       "      <td>8</td>\n",
       "      <td>226</td>\n",
       "      <td>229</td>\n",
       "      <td>4</td>\n",
       "      <td>15</td>\n",
       "      <td>13</td>\n",
       "    </tr>\n",
       "    <tr>\n",
       "      <th>693070</th>\n",
       "      <td>9</td>\n",
       "      <td>71</td>\n",
       "      <td>0</td>\n",
       "      <td>1</td>\n",
       "      <td>6</td>\n",
       "      <td>11</td>\n",
       "      <td>135</td>\n",
       "      <td>33</td>\n",
       "      <td>6</td>\n",
       "      <td>0</td>\n",
       "      <td>17</td>\n",
       "    </tr>\n",
       "  </tbody>\n",
       "</table>\n",
       "<p>693071 rows × 11 columns</p>\n",
       "</div>"
      ],
      "text/plain": [
       "        name  distance  surge_multiplier  cab_type  destination  source  \\\n",
       "0          7        15                 0         0            7       5   \n",
       "543594     2       269                 0         0            6       0   \n",
       "543596     5        72                 0         0            4       5   \n",
       "543597     2        72                 0         0            4       5   \n",
       "543598     6        72                 0         0            4       5   \n",
       "...      ...       ...               ...       ...          ...     ...   \n",
       "297546     9       287                 0         1            6       0   \n",
       "297545    10        97                 0         1            9      11   \n",
       "297544     1        97                 0         1            9      11   \n",
       "297470    12       135                 0         1            0       8   \n",
       "693070     9        71                 0         1            6      11   \n",
       "\n",
       "        visibility  windSpeed  short_summary  day  price  \n",
       "0              226        231              4    9      4  \n",
       "543594          82        199              5   10     47  \n",
       "543596          82        199              5   10      8  \n",
       "543597          82        199              5   10     20  \n",
       "543598         146         63              0    7     20  \n",
       "...            ...        ...            ...  ...    ...  \n",
       "297546          63         13              5   12     17  \n",
       "297545          63         13              5   12      8  \n",
       "297544          63         13              5   12     57  \n",
       "297470         226        229              4   15     13  \n",
       "693070         135         33              6    0     17  \n",
       "\n",
       "[693071 rows x 11 columns]"
      ]
     },
     "execution_count": 55,
     "metadata": {},
     "output_type": "execute_result"
    }
   ],
   "source": [
    "viz_data = df_enc[['name','distance','surge_multiplier','cab_type','destination',\n",
    "               'source','visibility','windSpeed','short_summary','day','price']]\n",
    "viz_data"
   ]
  },
  {
   "cell_type": "code",
   "execution_count": 56,
   "id": "e12b5bac",
   "metadata": {},
   "outputs": [
    {
     "data": {
      "text/plain": [
       "<seaborn.axisgrid.PairGrid at 0x7ff53be4afa0>"
      ]
     },
     "execution_count": 56,
     "metadata": {},
     "output_type": "execute_result"
    },
    {
     "data": {
      "image/png": "[encoded data removed]",
      "text/plain": [
       "<Figure size 1800x180 with 10 Axes>"
      ]
     },
     "metadata": {},
     "output_type": "display_data"
    }
   ],
   "source": [
    "sns.pairplot(viz_data, \n",
    "             x_vars=['name','distance','surge_multiplier','cab_type','destination',\n",
    "               'source','visibility','windSpeed','short_summary','day'],\n",
    "             y_vars=['price'], kind='scatter')"
   ]
  },
  {
   "cell_type": "code",
   "execution_count": 59,
   "id": "77609884",
   "metadata": {},
   "outputs": [],
   "source": [
    "pickle.dump(dt, open('model_fp1.pkl', 'wb'))"
   ]
  }
 ],
 "metadata": {
  "kernelspec": {
   "display_name": "Python 3 (ipykernel)",
   "language": "python",
   "name": "python3"
  },
  "language_info": {
   "codemirror_mode": {
    "name": "ipython",
    "version": 3
   },
   "file_extension": ".py",
   "mimetype": "text/x-python",
   "name": "python",
   "nbconvert_exporter": "python",
   "pygments_lexer": "ipython3",
   "version": "3.9.12"
  }
 },
 "nbformat": 4,
 "nbformat_minor": 5
}
